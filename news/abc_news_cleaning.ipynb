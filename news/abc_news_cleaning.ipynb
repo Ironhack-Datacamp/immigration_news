{
 "cells": [
  {
   "cell_type": "code",
   "execution_count": 1,
   "metadata": {},
   "outputs": [
    {
     "name": "stderr",
     "output_type": "stream",
     "text": [
      "[nltk_data] Downloading package wordnet to /Users/imogen/nltk_data...\n",
      "[nltk_data]   Package wordnet is already up-to-date!\n",
      "[nltk_data] Downloading package words to /Users/imogen/nltk_data...\n",
      "[nltk_data]   Package words is already up-to-date!\n",
      "[nltk_data] Downloading package stopwords to\n",
      "[nltk_data]     /Users/imogen/nltk_data...\n",
      "[nltk_data]   Package stopwords is already up-to-date!\n"
     ]
    }
   ],
   "source": [
    "import pandas as pd\n",
    "import numpy as np\n",
    "import matplotlib.pyplot as plt\n",
    "from sklearn.feature_extraction.text import CountVectorizer\n",
    "import re\n",
    "import string\n",
    "import nltk\n",
    "nltk.download('wordnet')\n",
    "nltk.download('words')\n",
    "nltk.download('stopwords')\n",
    "from nltk.corpus import stopwords\n",
    "from nltk.stem.porter import PorterStemmer"
   ]
  },
  {
   "cell_type": "code",
   "execution_count": 2,
   "metadata": {},
   "outputs": [],
   "source": [
    "news = pd.read_csv(\"abcnews-date-text.csv\")"
   ]
  },
  {
   "cell_type": "code",
   "execution_count": 3,
   "metadata": {},
   "outputs": [],
   "source": [
    "pd.set_option('display.max_colwidth', None)"
   ]
  },
  {
   "cell_type": "code",
   "execution_count": 4,
   "metadata": {},
   "outputs": [
    {
     "data": {
      "text/html": [
       "<div>\n",
       "<style scoped>\n",
       "    .dataframe tbody tr th:only-of-type {\n",
       "        vertical-align: middle;\n",
       "    }\n",
       "\n",
       "    .dataframe tbody tr th {\n",
       "        vertical-align: top;\n",
       "    }\n",
       "\n",
       "    .dataframe thead th {\n",
       "        text-align: right;\n",
       "    }\n",
       "</style>\n",
       "<table border=\"1\" class=\"dataframe\">\n",
       "  <thead>\n",
       "    <tr style=\"text-align: right;\">\n",
       "      <th></th>\n",
       "      <th>publish_date</th>\n",
       "      <th>headline_text</th>\n",
       "    </tr>\n",
       "  </thead>\n",
       "  <tbody>\n",
       "    <tr>\n",
       "      <th>0</th>\n",
       "      <td>20030219</td>\n",
       "      <td>aba decides against community broadcasting licence</td>\n",
       "    </tr>\n",
       "    <tr>\n",
       "      <th>1</th>\n",
       "      <td>20030219</td>\n",
       "      <td>act fire witnesses must be aware of defamation</td>\n",
       "    </tr>\n",
       "    <tr>\n",
       "      <th>2</th>\n",
       "      <td>20030219</td>\n",
       "      <td>a g calls for infrastructure protection summit</td>\n",
       "    </tr>\n",
       "    <tr>\n",
       "      <th>3</th>\n",
       "      <td>20030219</td>\n",
       "      <td>air nz staff in aust strike for pay rise</td>\n",
       "    </tr>\n",
       "    <tr>\n",
       "      <th>4</th>\n",
       "      <td>20030219</td>\n",
       "      <td>air nz strike to affect australian travellers</td>\n",
       "    </tr>\n",
       "  </tbody>\n",
       "</table>\n",
       "</div>"
      ],
      "text/plain": [
       "   publish_date                                       headline_text\n",
       "0      20030219  aba decides against community broadcasting licence\n",
       "1      20030219      act fire witnesses must be aware of defamation\n",
       "2      20030219      a g calls for infrastructure protection summit\n",
       "3      20030219            air nz staff in aust strike for pay rise\n",
       "4      20030219       air nz strike to affect australian travellers"
      ]
     },
     "execution_count": 4,
     "metadata": {},
     "output_type": "execute_result"
    }
   ],
   "source": [
    "news.head()"
   ]
  },
  {
   "cell_type": "code",
   "execution_count": 5,
   "metadata": {},
   "outputs": [
    {
     "data": {
      "text/html": [
       "<div>\n",
       "<style scoped>\n",
       "    .dataframe tbody tr th:only-of-type {\n",
       "        vertical-align: middle;\n",
       "    }\n",
       "\n",
       "    .dataframe tbody tr th {\n",
       "        vertical-align: top;\n",
       "    }\n",
       "\n",
       "    .dataframe thead th {\n",
       "        text-align: right;\n",
       "    }\n",
       "</style>\n",
       "<table border=\"1\" class=\"dataframe\">\n",
       "  <thead>\n",
       "    <tr style=\"text-align: right;\">\n",
       "      <th></th>\n",
       "      <th>publish_date</th>\n",
       "      <th>headline_text</th>\n",
       "    </tr>\n",
       "  </thead>\n",
       "  <tbody>\n",
       "    <tr>\n",
       "      <th>1186013</th>\n",
       "      <td>20191231</td>\n",
       "      <td>vision of flames approaching corryong in victoria</td>\n",
       "    </tr>\n",
       "    <tr>\n",
       "      <th>1186014</th>\n",
       "      <td>20191231</td>\n",
       "      <td>wa police and government backflip on drug amnesty bins</td>\n",
       "    </tr>\n",
       "    <tr>\n",
       "      <th>1186015</th>\n",
       "      <td>20191231</td>\n",
       "      <td>we have fears for their safety: victorian premier</td>\n",
       "    </tr>\n",
       "    <tr>\n",
       "      <th>1186016</th>\n",
       "      <td>20191231</td>\n",
       "      <td>when do the 20s start</td>\n",
       "    </tr>\n",
       "    <tr>\n",
       "      <th>1186017</th>\n",
       "      <td>20191231</td>\n",
       "      <td>yarraville shooting woman dead man critically injured</td>\n",
       "    </tr>\n",
       "  </tbody>\n",
       "</table>\n",
       "</div>"
      ],
      "text/plain": [
       "         publish_date                                           headline_text\n",
       "1186013      20191231       vision of flames approaching corryong in victoria\n",
       "1186014      20191231  wa police and government backflip on drug amnesty bins\n",
       "1186015      20191231       we have fears for their safety: victorian premier\n",
       "1186016      20191231                                   when do the 20s start\n",
       "1186017      20191231   yarraville shooting woman dead man critically injured"
      ]
     },
     "execution_count": 5,
     "metadata": {},
     "output_type": "execute_result"
    }
   ],
   "source": [
    "news.tail()"
   ]
  },
  {
   "cell_type": "code",
   "execution_count": 6,
   "metadata": {},
   "outputs": [
    {
     "data": {
      "text/plain": [
       "(1186018, 2)"
      ]
     },
     "execution_count": 6,
     "metadata": {},
     "output_type": "execute_result"
    }
   ],
   "source": [
    "news.shape"
   ]
  },
  {
   "cell_type": "code",
   "execution_count": 7,
   "metadata": {},
   "outputs": [
    {
     "data": {
      "text/plain": [
       "publish_date      int64\n",
       "headline_text    object\n",
       "dtype: object"
      ]
     },
     "execution_count": 7,
     "metadata": {},
     "output_type": "execute_result"
    }
   ],
   "source": [
    "news.dtypes"
   ]
  },
  {
   "cell_type": "markdown",
   "metadata": {},
   "source": [
    "## Change publish_date to datetime format"
   ]
  },
  {
   "cell_type": "code",
   "execution_count": 8,
   "metadata": {},
   "outputs": [
    {
     "data": {
      "text/html": [
       "<div>\n",
       "<style scoped>\n",
       "    .dataframe tbody tr th:only-of-type {\n",
       "        vertical-align: middle;\n",
       "    }\n",
       "\n",
       "    .dataframe tbody tr th {\n",
       "        vertical-align: top;\n",
       "    }\n",
       "\n",
       "    .dataframe thead th {\n",
       "        text-align: right;\n",
       "    }\n",
       "</style>\n",
       "<table border=\"1\" class=\"dataframe\">\n",
       "  <thead>\n",
       "    <tr style=\"text-align: right;\">\n",
       "      <th></th>\n",
       "      <th>publish_date</th>\n",
       "      <th>headline_text</th>\n",
       "    </tr>\n",
       "  </thead>\n",
       "  <tbody>\n",
       "    <tr>\n",
       "      <th>0</th>\n",
       "      <td>2003-02-19</td>\n",
       "      <td>aba decides against community broadcasting licence</td>\n",
       "    </tr>\n",
       "    <tr>\n",
       "      <th>1</th>\n",
       "      <td>2003-02-19</td>\n",
       "      <td>act fire witnesses must be aware of defamation</td>\n",
       "    </tr>\n",
       "    <tr>\n",
       "      <th>2</th>\n",
       "      <td>2003-02-19</td>\n",
       "      <td>a g calls for infrastructure protection summit</td>\n",
       "    </tr>\n",
       "    <tr>\n",
       "      <th>3</th>\n",
       "      <td>2003-02-19</td>\n",
       "      <td>air nz staff in aust strike for pay rise</td>\n",
       "    </tr>\n",
       "    <tr>\n",
       "      <th>4</th>\n",
       "      <td>2003-02-19</td>\n",
       "      <td>air nz strike to affect australian travellers</td>\n",
       "    </tr>\n",
       "    <tr>\n",
       "      <th>...</th>\n",
       "      <td>...</td>\n",
       "      <td>...</td>\n",
       "    </tr>\n",
       "    <tr>\n",
       "      <th>1186013</th>\n",
       "      <td>2019-12-31</td>\n",
       "      <td>vision of flames approaching corryong in victoria</td>\n",
       "    </tr>\n",
       "    <tr>\n",
       "      <th>1186014</th>\n",
       "      <td>2019-12-31</td>\n",
       "      <td>wa police and government backflip on drug amnesty bins</td>\n",
       "    </tr>\n",
       "    <tr>\n",
       "      <th>1186015</th>\n",
       "      <td>2019-12-31</td>\n",
       "      <td>we have fears for their safety: victorian premier</td>\n",
       "    </tr>\n",
       "    <tr>\n",
       "      <th>1186016</th>\n",
       "      <td>2019-12-31</td>\n",
       "      <td>when do the 20s start</td>\n",
       "    </tr>\n",
       "    <tr>\n",
       "      <th>1186017</th>\n",
       "      <td>2019-12-31</td>\n",
       "      <td>yarraville shooting woman dead man critically injured</td>\n",
       "    </tr>\n",
       "  </tbody>\n",
       "</table>\n",
       "<p>1186018 rows × 2 columns</p>\n",
       "</div>"
      ],
      "text/plain": [
       "        publish_date                                           headline_text\n",
       "0         2003-02-19      aba decides against community broadcasting licence\n",
       "1         2003-02-19          act fire witnesses must be aware of defamation\n",
       "2         2003-02-19          a g calls for infrastructure protection summit\n",
       "3         2003-02-19                air nz staff in aust strike for pay rise\n",
       "4         2003-02-19           air nz strike to affect australian travellers\n",
       "...              ...                                                     ...\n",
       "1186013   2019-12-31       vision of flames approaching corryong in victoria\n",
       "1186014   2019-12-31  wa police and government backflip on drug amnesty bins\n",
       "1186015   2019-12-31       we have fears for their safety: victorian premier\n",
       "1186016   2019-12-31                                   when do the 20s start\n",
       "1186017   2019-12-31   yarraville shooting woman dead man critically injured\n",
       "\n",
       "[1186018 rows x 2 columns]"
      ]
     },
     "execution_count": 8,
     "metadata": {},
     "output_type": "execute_result"
    }
   ],
   "source": [
    "news['publish_date'] = pd.to_datetime(news['publish_date'].astype(str), format='%Y%m%d')\n",
    "news\n",
    "\n",
    "#another way:\n",
    "#df_real['date'] = pd.to_datetime(df_real['date'], errors='coerce')"
   ]
  },
  {
   "cell_type": "code",
   "execution_count": 9,
   "metadata": {},
   "outputs": [
    {
     "data": {
      "text/plain": [
       "publish_date     datetime64[ns]\n",
       "headline_text            object\n",
       "dtype: object"
      ]
     },
     "execution_count": 9,
     "metadata": {},
     "output_type": "execute_result"
    }
   ],
   "source": [
    "news.dtypes"
   ]
  },
  {
   "cell_type": "code",
   "execution_count": 10,
   "metadata": {},
   "outputs": [],
   "source": [
    "news_copy = news.copy()"
   ]
  },
  {
   "cell_type": "markdown",
   "metadata": {},
   "source": [
    "## Make financial year categories as new column"
   ]
  },
  {
   "cell_type": "markdown",
   "metadata": {},
   "source": [
    "My other dataset has immigration numbers by Australian financial year, which starts 1 July and ends 30 June, so I will make a column in the same format to make the data easy to compare.  \n",
    "\n",
    "financial_year\n",
    "- 2003-07-01: 2003-07-01 to 2004-06-30\n",
    "- 2004-07-01: 2004-07-01 to 2005-06-30\n",
    "- 2005-07-01: 2005-07-01 to 2006-06-30\n",
    "- 2006-07: 2006-07-01 to 2007-06-30\n",
    "- 2007-08: 2007-07-01 to 2008-06-30\n",
    "- 2008-09: 2008-07-01 to 2009-06-30\n",
    "- 2009-10: 2009-07-01 to 2010-06-30\n",
    "- 2010-11: 2010-07-01 to 2011-06-30\n",
    "- 2011-12: 2011-07-01 to 2012-06-30\n",
    "- 2012-13: 2012-07-01 to 2013-06-30\n",
    "- 2013-14: 2013-07-01 to 2014-06-30\n",
    "- 2014-15: 2014-07-01 to 2015-06-30\n",
    "- 2015-16: 2015-07-01 to 2016-06-30\n",
    "- 2016-17: 2016-07-01 to 2017-06-30\n",
    "- 2017-18: 2017-07-01 to 2018-06-30\n",
    "- 2018-19: 2018-07-01 to 2019-06-30\n",
    "\n",
    "Gaps: \n",
    "- can delete (or ignore? would be null values) data from 2003-02-19 to 2003-07-01\n",
    "- 2019-06-30 to 2019-12-31: would rather not delete\n"
   ]
  },
  {
   "cell_type": "code",
   "execution_count": 11,
   "metadata": {},
   "outputs": [
    {
     "data": {
      "text/plain": [
       "Timestamp('2003-02-19 00:00:00')"
      ]
     },
     "execution_count": 11,
     "metadata": {},
     "output_type": "execute_result"
    }
   ],
   "source": [
    "news_copy['publish_date'].min()"
   ]
  },
  {
   "cell_type": "code",
   "execution_count": 12,
   "metadata": {},
   "outputs": [
    {
     "data": {
      "text/plain": [
       "Timestamp('2019-12-31 00:00:00')"
      ]
     },
     "execution_count": 12,
     "metadata": {},
     "output_type": "execute_result"
    }
   ],
   "source": [
    "news_copy['publish_date'].max()"
   ]
  },
  {
   "cell_type": "markdown",
   "metadata": {},
   "source": [
    "### 1. Make new empty column"
   ]
  },
  {
   "cell_type": "code",
   "execution_count": 13,
   "metadata": {},
   "outputs": [],
   "source": []
  },
  {
   "cell_type": "code",
   "execution_count": 14,
   "metadata": {},
   "outputs": [
    {
     "data": {
      "text/html": [
       "<div>\n",
       "<style scoped>\n",
       "    .dataframe tbody tr th:only-of-type {\n",
       "        vertical-align: middle;\n",
       "    }\n",
       "\n",
       "    .dataframe tbody tr th {\n",
       "        vertical-align: top;\n",
       "    }\n",
       "\n",
       "    .dataframe thead th {\n",
       "        text-align: right;\n",
       "    }\n",
       "</style>\n",
       "<table border=\"1\" class=\"dataframe\">\n",
       "  <thead>\n",
       "    <tr style=\"text-align: right;\">\n",
       "      <th></th>\n",
       "      <th>publish_date</th>\n",
       "      <th>headline_text</th>\n",
       "      <th>financial_year</th>\n",
       "    </tr>\n",
       "  </thead>\n",
       "  <tbody>\n",
       "    <tr>\n",
       "      <th>0</th>\n",
       "      <td>2003-02-19</td>\n",
       "      <td>aba decides against community broadcasting licence</td>\n",
       "      <td>NaN</td>\n",
       "    </tr>\n",
       "    <tr>\n",
       "      <th>1</th>\n",
       "      <td>2003-02-19</td>\n",
       "      <td>act fire witnesses must be aware of defamation</td>\n",
       "      <td>NaN</td>\n",
       "    </tr>\n",
       "    <tr>\n",
       "      <th>2</th>\n",
       "      <td>2003-02-19</td>\n",
       "      <td>a g calls for infrastructure protection summit</td>\n",
       "      <td>NaN</td>\n",
       "    </tr>\n",
       "    <tr>\n",
       "      <th>3</th>\n",
       "      <td>2003-02-19</td>\n",
       "      <td>air nz staff in aust strike for pay rise</td>\n",
       "      <td>NaN</td>\n",
       "    </tr>\n",
       "    <tr>\n",
       "      <th>4</th>\n",
       "      <td>2003-02-19</td>\n",
       "      <td>air nz strike to affect australian travellers</td>\n",
       "      <td>NaN</td>\n",
       "    </tr>\n",
       "    <tr>\n",
       "      <th>...</th>\n",
       "      <td>...</td>\n",
       "      <td>...</td>\n",
       "      <td>...</td>\n",
       "    </tr>\n",
       "    <tr>\n",
       "      <th>1186013</th>\n",
       "      <td>2019-12-31</td>\n",
       "      <td>vision of flames approaching corryong in victoria</td>\n",
       "      <td>NaN</td>\n",
       "    </tr>\n",
       "    <tr>\n",
       "      <th>1186014</th>\n",
       "      <td>2019-12-31</td>\n",
       "      <td>wa police and government backflip on drug amnesty bins</td>\n",
       "      <td>NaN</td>\n",
       "    </tr>\n",
       "    <tr>\n",
       "      <th>1186015</th>\n",
       "      <td>2019-12-31</td>\n",
       "      <td>we have fears for their safety: victorian premier</td>\n",
       "      <td>NaN</td>\n",
       "    </tr>\n",
       "    <tr>\n",
       "      <th>1186016</th>\n",
       "      <td>2019-12-31</td>\n",
       "      <td>when do the 20s start</td>\n",
       "      <td>NaN</td>\n",
       "    </tr>\n",
       "    <tr>\n",
       "      <th>1186017</th>\n",
       "      <td>2019-12-31</td>\n",
       "      <td>yarraville shooting woman dead man critically injured</td>\n",
       "      <td>NaN</td>\n",
       "    </tr>\n",
       "  </tbody>\n",
       "</table>\n",
       "<p>1186018 rows × 3 columns</p>\n",
       "</div>"
      ],
      "text/plain": [
       "        publish_date                                           headline_text  \\\n",
       "0         2003-02-19      aba decides against community broadcasting licence   \n",
       "1         2003-02-19          act fire witnesses must be aware of defamation   \n",
       "2         2003-02-19          a g calls for infrastructure protection summit   \n",
       "3         2003-02-19                air nz staff in aust strike for pay rise   \n",
       "4         2003-02-19           air nz strike to affect australian travellers   \n",
       "...              ...                                                     ...   \n",
       "1186013   2019-12-31       vision of flames approaching corryong in victoria   \n",
       "1186014   2019-12-31  wa police and government backflip on drug amnesty bins   \n",
       "1186015   2019-12-31       we have fears for their safety: victorian premier   \n",
       "1186016   2019-12-31                                   when do the 20s start   \n",
       "1186017   2019-12-31   yarraville shooting woman dead man critically injured   \n",
       "\n",
       "         financial_year  \n",
       "0                   NaN  \n",
       "1                   NaN  \n",
       "2                   NaN  \n",
       "3                   NaN  \n",
       "4                   NaN  \n",
       "...                 ...  \n",
       "1186013             NaN  \n",
       "1186014             NaN  \n",
       "1186015             NaN  \n",
       "1186016             NaN  \n",
       "1186017             NaN  \n",
       "\n",
       "[1186018 rows x 3 columns]"
      ]
     },
     "execution_count": 14,
     "metadata": {},
     "output_type": "execute_result"
    }
   ],
   "source": [
    "news_copy"
   ]
  },
  {
   "cell_type": "markdown",
   "metadata": {},
   "source": [
    "### 2. add values to new column"
   ]
  },
  {
   "cell_type": "code",
   "execution_count": null,
   "metadata": {},
   "outputs": [],
   "source": []
  },
  {
   "cell_type": "code",
   "execution_count": 11,
   "metadata": {},
   "outputs": [],
   "source": [
    "news_copy.loc[(news_copy[\"publish_date\"]\n",
    "               .between(pd.to_datetime(\"2002-07-01\"), \n",
    "                        pd.to_datetime(\"2003-06-30\")), 'financial_year')] = '2002-07-01'\n",
    "\n",
    "news_copy.loc[(news_copy[\"publish_date\"]\n",
    "               .between(pd.to_datetime(\"2003-07-01\"), \n",
    "                        pd.to_datetime(\"2004-06-30\")), 'financial_year')] = '2003-07-01'\n",
    "\n",
    "news_copy.loc[(news_copy[\"publish_date\"]\n",
    "               .between(pd.to_datetime(\"2004-07-01\"), \n",
    "                        pd.to_datetime(\"2005-06-30\")), 'financial_year')] = '2004-07-01'\n",
    "\n",
    "news_copy.loc[(news_copy[\"publish_date\"]\n",
    "               .between(pd.to_datetime(\"2005-07-01\"), \n",
    "                        pd.to_datetime(\"2006-06-30\")), 'financial_year')] = '2005-07-01'\n",
    "\n",
    "news_copy.loc[(news_copy[\"publish_date\"]\n",
    "               .between(pd.to_datetime(\"2006-07-01\"), \n",
    "                        pd.to_datetime(\"2007-06-30\")), 'financial_year')] = '2006-07-01'\n",
    "\n",
    "news_copy.loc[(news_copy[\"publish_date\"]\n",
    "               .between(pd.to_datetime(\"2007-07-01\"), \n",
    "                        pd.to_datetime(\"2008-06-30\")), 'financial_year')] = '2007-07-01'\n",
    "\n",
    "news_copy.loc[(news_copy[\"publish_date\"]\n",
    "               .between(pd.to_datetime(\"2008-07-01\"), \n",
    "                        pd.to_datetime(\"2009-06-30\")), 'financial_year')] = '2008-07-01'\n",
    "\n",
    "news_copy.loc[(news_copy[\"publish_date\"]\n",
    "               .between(pd.to_datetime(\"2009-07-01\"), \n",
    "                        pd.to_datetime(\"2010-06-30\")), 'financial_year')] = '2009-07-01'\n",
    "\n"
   ]
  },
  {
   "cell_type": "code",
   "execution_count": 12,
   "metadata": {},
   "outputs": [],
   "source": [
    "news_copy.loc[(news_copy[\"publish_date\"]\n",
    "               .between(pd.to_datetime(\"2010-07-01\"), \n",
    "                        pd.to_datetime(\"2011-06-30\")), 'financial_year')] = '2010-07-01'\n",
    "\n",
    "news_copy.loc[(news_copy[\"publish_date\"]\n",
    "               .between(pd.to_datetime(\"2011-07-01\"), \n",
    "                        pd.to_datetime(\"2012-06-30\")), 'financial_year')] = '2011-07-01'\n",
    "\n",
    "news_copy.loc[(news_copy[\"publish_date\"]\n",
    "               .between(pd.to_datetime(\"2012-07-01\"), \n",
    "                        pd.to_datetime(\"2013-06-30\")), 'financial_year')] = '2012-07-01'\n",
    "\n",
    "news_copy.loc[(news_copy[\"publish_date\"]\n",
    "               .between(pd.to_datetime(\"2013-07-01\"), \n",
    "                        pd.to_datetime(\"2014-06-30\")), 'financial_year')] = '2013-07-01'\n",
    "\n",
    "news_copy.loc[(news_copy[\"publish_date\"]\n",
    "               .between(pd.to_datetime(\"2014-07-01\"), \n",
    "                        pd.to_datetime(\"2015-06-30\")), 'financial_year')] = '2014-07-01'\n",
    "\n",
    "news_copy.loc[(news_copy[\"publish_date\"]\n",
    "               .between(pd.to_datetime(\"2015-07-01\"), \n",
    "                        pd.to_datetime(\"2016-06-30\")), 'financial_year')] = '2015-07-01'\n",
    "\n",
    "news_copy.loc[(news_copy[\"publish_date\"]\n",
    "               .between(pd.to_datetime(\"2016-07-01\"), \n",
    "                        pd.to_datetime(\"2017-06-30\")), 'financial_year')] = '2016-07-01'\n",
    "\n",
    "news_copy.loc[(news_copy[\"publish_date\"]\n",
    "               .between(pd.to_datetime(\"2017-07-01\"), \n",
    "                        pd.to_datetime(\"2018-06-30\")), 'financial_year')] = '2017-07-01'\n",
    "\n",
    "news_copy.loc[(news_copy[\"publish_date\"]\n",
    "               .between(pd.to_datetime(\"2018-07-01\"), \n",
    "                        pd.to_datetime(\"2019-06-30\")), 'financial_year')] = '2018-07-01'\n",
    "\n",
    "news_copy.loc[(news_copy[\"publish_date\"]\n",
    "               .between(pd.to_datetime(\"2019-07-01\"), \n",
    "                        pd.to_datetime(\"2020-06-30\")), 'financial_year')] = '2019-07-01'"
   ]
  },
  {
   "cell_type": "code",
   "execution_count": null,
   "metadata": {},
   "outputs": [],
   "source": []
  },
  {
   "cell_type": "markdown",
   "metadata": {},
   "source": [
    "## Check that it worked"
   ]
  },
  {
   "cell_type": "markdown",
   "metadata": {},
   "source": [
    "Note that the 2002-3 and 2019-20 are incomplete and numbers of values should not be compared with other years"
   ]
  },
  {
   "cell_type": "code",
   "execution_count": 13,
   "metadata": {},
   "outputs": [
    {
     "data": {
      "text/plain": [
       "2012-07-01    93574\n",
       "2013-07-01    86497\n",
       "2011-07-01    81546\n",
       "2007-07-01    79743\n",
       "2008-07-01    78062\n",
       "2010-07-01    76406\n",
       "2014-07-01    76302\n",
       "2009-07-01    75475\n",
       "2005-07-01    73499\n",
       "2015-07-01    73027\n",
       "2004-07-01    72856\n",
       "2003-07-01    72753\n",
       "2006-07-01    67690\n",
       "2016-07-01    53234\n",
       "2017-07-01    44629\n",
       "2018-07-01    36344\n",
       "2002-07-01    27436\n",
       "2019-07-01    16945\n",
       "Name: financial_year, dtype: int64"
      ]
     },
     "execution_count": 13,
     "metadata": {},
     "output_type": "execute_result"
    }
   ],
   "source": [
    "news_copy['financial_year'].value_counts()"
   ]
  },
  {
   "cell_type": "code",
   "execution_count": 14,
   "metadata": {},
   "outputs": [
    {
     "data": {
      "text/plain": [
       "publish_date      datetime64[ns]\n",
       "headline_text             object\n",
       "financial_year            object\n",
       "dtype: object"
      ]
     },
     "execution_count": 14,
     "metadata": {},
     "output_type": "execute_result"
    }
   ],
   "source": [
    "news_copy.dtypes"
   ]
  },
  {
   "cell_type": "code",
   "execution_count": 18,
   "metadata": {},
   "outputs": [],
   "source": [
    "#news_copy['financial_year'] = pd.to_datetime(news_copy['financial_year'].astype(str), format='%Y%m%d')\n",
    "\n",
    "news_copy['financial_year'] = pd.to_datetime(news_copy['financial_year'])\n",
    "                                             #, format='%Y%m%d')\n",
    "\n",
    "#pd.to_datetime(df)\n",
    "#pd.to_datetime('13000101', format='%Y%m%d', errors='ignore')\n",
    "#news_copy"
   ]
  },
  {
   "cell_type": "code",
   "execution_count": 19,
   "metadata": {},
   "outputs": [
    {
     "data": {
      "text/plain": [
       "publish_date      datetime64[ns]\n",
       "headline_text             object\n",
       "financial_year    datetime64[ns]\n",
       "dtype: object"
      ]
     },
     "execution_count": 19,
     "metadata": {},
     "output_type": "execute_result"
    }
   ],
   "source": [
    "news_copy.dtypes"
   ]
  },
  {
   "cell_type": "code",
   "execution_count": 20,
   "metadata": {},
   "outputs": [
    {
     "data": {
      "text/html": [
       "<div>\n",
       "<style scoped>\n",
       "    .dataframe tbody tr th:only-of-type {\n",
       "        vertical-align: middle;\n",
       "    }\n",
       "\n",
       "    .dataframe tbody tr th {\n",
       "        vertical-align: top;\n",
       "    }\n",
       "\n",
       "    .dataframe thead th {\n",
       "        text-align: right;\n",
       "    }\n",
       "</style>\n",
       "<table border=\"1\" class=\"dataframe\">\n",
       "  <thead>\n",
       "    <tr style=\"text-align: right;\">\n",
       "      <th></th>\n",
       "      <th>publish_date</th>\n",
       "      <th>headline_text</th>\n",
       "      <th>financial_year</th>\n",
       "    </tr>\n",
       "  </thead>\n",
       "  <tbody>\n",
       "    <tr>\n",
       "      <th>0</th>\n",
       "      <td>2003-02-19</td>\n",
       "      <td>aba decides against community broadcasting licence</td>\n",
       "      <td>2002-07-01</td>\n",
       "    </tr>\n",
       "    <tr>\n",
       "      <th>1</th>\n",
       "      <td>2003-02-19</td>\n",
       "      <td>act fire witnesses must be aware of defamation</td>\n",
       "      <td>2002-07-01</td>\n",
       "    </tr>\n",
       "    <tr>\n",
       "      <th>2</th>\n",
       "      <td>2003-02-19</td>\n",
       "      <td>a g calls for infrastructure protection summit</td>\n",
       "      <td>2002-07-01</td>\n",
       "    </tr>\n",
       "    <tr>\n",
       "      <th>3</th>\n",
       "      <td>2003-02-19</td>\n",
       "      <td>air nz staff in aust strike for pay rise</td>\n",
       "      <td>2002-07-01</td>\n",
       "    </tr>\n",
       "    <tr>\n",
       "      <th>4</th>\n",
       "      <td>2003-02-19</td>\n",
       "      <td>air nz strike to affect australian travellers</td>\n",
       "      <td>2002-07-01</td>\n",
       "    </tr>\n",
       "    <tr>\n",
       "      <th>...</th>\n",
       "      <td>...</td>\n",
       "      <td>...</td>\n",
       "      <td>...</td>\n",
       "    </tr>\n",
       "    <tr>\n",
       "      <th>1186013</th>\n",
       "      <td>2019-12-31</td>\n",
       "      <td>vision of flames approaching corryong in victoria</td>\n",
       "      <td>2019-07-01</td>\n",
       "    </tr>\n",
       "    <tr>\n",
       "      <th>1186014</th>\n",
       "      <td>2019-12-31</td>\n",
       "      <td>wa police and government backflip on drug amnesty bins</td>\n",
       "      <td>2019-07-01</td>\n",
       "    </tr>\n",
       "    <tr>\n",
       "      <th>1186015</th>\n",
       "      <td>2019-12-31</td>\n",
       "      <td>we have fears for their safety: victorian premier</td>\n",
       "      <td>2019-07-01</td>\n",
       "    </tr>\n",
       "    <tr>\n",
       "      <th>1186016</th>\n",
       "      <td>2019-12-31</td>\n",
       "      <td>when do the 20s start</td>\n",
       "      <td>2019-07-01</td>\n",
       "    </tr>\n",
       "    <tr>\n",
       "      <th>1186017</th>\n",
       "      <td>2019-12-31</td>\n",
       "      <td>yarraville shooting woman dead man critically injured</td>\n",
       "      <td>2019-07-01</td>\n",
       "    </tr>\n",
       "  </tbody>\n",
       "</table>\n",
       "<p>1186018 rows × 3 columns</p>\n",
       "</div>"
      ],
      "text/plain": [
       "        publish_date                                           headline_text  \\\n",
       "0         2003-02-19      aba decides against community broadcasting licence   \n",
       "1         2003-02-19          act fire witnesses must be aware of defamation   \n",
       "2         2003-02-19          a g calls for infrastructure protection summit   \n",
       "3         2003-02-19                air nz staff in aust strike for pay rise   \n",
       "4         2003-02-19           air nz strike to affect australian travellers   \n",
       "...              ...                                                     ...   \n",
       "1186013   2019-12-31       vision of flames approaching corryong in victoria   \n",
       "1186014   2019-12-31  wa police and government backflip on drug amnesty bins   \n",
       "1186015   2019-12-31       we have fears for their safety: victorian premier   \n",
       "1186016   2019-12-31                                   when do the 20s start   \n",
       "1186017   2019-12-31   yarraville shooting woman dead man critically injured   \n",
       "\n",
       "        financial_year  \n",
       "0           2002-07-01  \n",
       "1           2002-07-01  \n",
       "2           2002-07-01  \n",
       "3           2002-07-01  \n",
       "4           2002-07-01  \n",
       "...                ...  \n",
       "1186013     2019-07-01  \n",
       "1186014     2019-07-01  \n",
       "1186015     2019-07-01  \n",
       "1186016     2019-07-01  \n",
       "1186017     2019-07-01  \n",
       "\n",
       "[1186018 rows x 3 columns]"
      ]
     },
     "execution_count": 20,
     "metadata": {},
     "output_type": "execute_result"
    }
   ],
   "source": [
    "news_copy"
   ]
  },
  {
   "cell_type": "code",
   "execution_count": 21,
   "metadata": {},
   "outputs": [],
   "source": [
    "news = news_copy"
   ]
  },
  {
   "cell_type": "code",
   "execution_count": 22,
   "metadata": {},
   "outputs": [],
   "source": [
    "news_copy = news.copy()"
   ]
  },
  {
   "cell_type": "code",
   "execution_count": null,
   "metadata": {},
   "outputs": [],
   "source": []
  },
  {
   "cell_type": "markdown",
   "metadata": {},
   "source": [
    "### Check for missing values"
   ]
  },
  {
   "cell_type": "code",
   "execution_count": 23,
   "metadata": {},
   "outputs": [
    {
     "data": {
      "text/plain": [
       "publish_date      0\n",
       "headline_text     0\n",
       "financial_year    0\n",
       "dtype: int64"
      ]
     },
     "execution_count": 23,
     "metadata": {},
     "output_type": "execute_result"
    }
   ],
   "source": [
    "news_copy.isna().sum()"
   ]
  },
  {
   "cell_type": "code",
   "execution_count": 24,
   "metadata": {},
   "outputs": [
    {
     "data": {
      "text/html": [
       "<div>\n",
       "<style scoped>\n",
       "    .dataframe tbody tr th:only-of-type {\n",
       "        vertical-align: middle;\n",
       "    }\n",
       "\n",
       "    .dataframe tbody tr th {\n",
       "        vertical-align: top;\n",
       "    }\n",
       "\n",
       "    .dataframe thead th {\n",
       "        text-align: right;\n",
       "    }\n",
       "</style>\n",
       "<table border=\"1\" class=\"dataframe\">\n",
       "  <thead>\n",
       "    <tr style=\"text-align: right;\">\n",
       "      <th></th>\n",
       "      <th>publish_date</th>\n",
       "      <th>headline_text</th>\n",
       "      <th>financial_year</th>\n",
       "    </tr>\n",
       "  </thead>\n",
       "  <tbody>\n",
       "  </tbody>\n",
       "</table>\n",
       "</div>"
      ],
      "text/plain": [
       "Empty DataFrame\n",
       "Columns: [publish_date, headline_text, financial_year]\n",
       "Index: []"
      ]
     },
     "execution_count": 24,
     "metadata": {},
     "output_type": "execute_result"
    }
   ],
   "source": [
    "news_copy.loc[(news_copy['headline_text'] == ' ') \n",
    "        | (news_copy['headline_text'] == '')]"
   ]
  },
  {
   "cell_type": "code",
   "execution_count": null,
   "metadata": {},
   "outputs": [],
   "source": []
  },
  {
   "cell_type": "code",
   "execution_count": 25,
   "metadata": {},
   "outputs": [],
   "source": [
    "news_copy = news_copy[~(news_copy['headline_text'] == ' ')]\n"
   ]
  },
  {
   "cell_type": "code",
   "execution_count": 26,
   "metadata": {},
   "outputs": [],
   "source": [
    "news_copy = news_copy[~(news_copy['headline_text'] == '')]"
   ]
  },
  {
   "cell_type": "code",
   "execution_count": 31,
   "metadata": {},
   "outputs": [
    {
     "data": {
      "text/html": [
       "<div>\n",
       "<style scoped>\n",
       "    .dataframe tbody tr th:only-of-type {\n",
       "        vertical-align: middle;\n",
       "    }\n",
       "\n",
       "    .dataframe tbody tr th {\n",
       "        vertical-align: top;\n",
       "    }\n",
       "\n",
       "    .dataframe thead th {\n",
       "        text-align: right;\n",
       "    }\n",
       "</style>\n",
       "<table border=\"1\" class=\"dataframe\">\n",
       "  <thead>\n",
       "    <tr style=\"text-align: right;\">\n",
       "      <th></th>\n",
       "      <th>publish_date</th>\n",
       "      <th>headline_text</th>\n",
       "      <th>financial_year</th>\n",
       "    </tr>\n",
       "  </thead>\n",
       "  <tbody>\n",
       "  </tbody>\n",
       "</table>\n",
       "</div>"
      ],
      "text/plain": [
       "Empty DataFrame\n",
       "Columns: [publish_date, headline_text, financial_year]\n",
       "Index: []"
      ]
     },
     "execution_count": 31,
     "metadata": {},
     "output_type": "execute_result"
    }
   ],
   "source": [
    "news_copy[(news_copy['headline_text'] == '')]"
   ]
  },
  {
   "cell_type": "code",
   "execution_count": 32,
   "metadata": {},
   "outputs": [
    {
     "data": {
      "text/html": [
       "<div>\n",
       "<style scoped>\n",
       "    .dataframe tbody tr th:only-of-type {\n",
       "        vertical-align: middle;\n",
       "    }\n",
       "\n",
       "    .dataframe tbody tr th {\n",
       "        vertical-align: top;\n",
       "    }\n",
       "\n",
       "    .dataframe thead th {\n",
       "        text-align: right;\n",
       "    }\n",
       "</style>\n",
       "<table border=\"1\" class=\"dataframe\">\n",
       "  <thead>\n",
       "    <tr style=\"text-align: right;\">\n",
       "      <th></th>\n",
       "      <th>publish_date</th>\n",
       "      <th>headline_text</th>\n",
       "      <th>financial_year</th>\n",
       "    </tr>\n",
       "  </thead>\n",
       "  <tbody>\n",
       "  </tbody>\n",
       "</table>\n",
       "</div>"
      ],
      "text/plain": [
       "Empty DataFrame\n",
       "Columns: [publish_date, headline_text, financial_year]\n",
       "Index: []"
      ]
     },
     "execution_count": 32,
     "metadata": {},
     "output_type": "execute_result"
    }
   ],
   "source": [
    "news_copy.loc[(news_copy['headline_text'] == ' ') \n",
    "        | (news_copy['headline_text'] == '')]"
   ]
  },
  {
   "cell_type": "code",
   "execution_count": 33,
   "metadata": {},
   "outputs": [],
   "source": [
    "news = news_copy"
   ]
  },
  {
   "cell_type": "code",
   "execution_count": 34,
   "metadata": {},
   "outputs": [],
   "source": [
    "news_copy = news.copy()"
   ]
  },
  {
   "cell_type": "markdown",
   "metadata": {},
   "source": [
    "## text pre-processing"
   ]
  },
  {
   "cell_type": "markdown",
   "metadata": {},
   "source": [
    "My text is already in lower case, no square brackets or quotes. \n",
    "Need to remove numbers and punctuation."
   ]
  },
  {
   "cell_type": "code",
   "execution_count": 35,
   "metadata": {},
   "outputs": [
    {
     "data": {
      "text/html": [
       "<div>\n",
       "<style scoped>\n",
       "    .dataframe tbody tr th:only-of-type {\n",
       "        vertical-align: middle;\n",
       "    }\n",
       "\n",
       "    .dataframe tbody tr th {\n",
       "        vertical-align: top;\n",
       "    }\n",
       "\n",
       "    .dataframe thead th {\n",
       "        text-align: right;\n",
       "    }\n",
       "</style>\n",
       "<table border=\"1\" class=\"dataframe\">\n",
       "  <thead>\n",
       "    <tr style=\"text-align: right;\">\n",
       "      <th></th>\n",
       "      <th>publish_date</th>\n",
       "      <th>headline_text</th>\n",
       "      <th>financial_year</th>\n",
       "    </tr>\n",
       "  </thead>\n",
       "  <tbody>\n",
       "    <tr>\n",
       "      <th>1186013</th>\n",
       "      <td>2019-12-31</td>\n",
       "      <td>vision of flames approaching corryong in victoria</td>\n",
       "      <td>2019-07-01</td>\n",
       "    </tr>\n",
       "    <tr>\n",
       "      <th>1186014</th>\n",
       "      <td>2019-12-31</td>\n",
       "      <td>wa police and government backflip on drug amnesty bins</td>\n",
       "      <td>2019-07-01</td>\n",
       "    </tr>\n",
       "    <tr>\n",
       "      <th>1186015</th>\n",
       "      <td>2019-12-31</td>\n",
       "      <td>we have fears for their safety: victorian premier</td>\n",
       "      <td>2019-07-01</td>\n",
       "    </tr>\n",
       "    <tr>\n",
       "      <th>1186016</th>\n",
       "      <td>2019-12-31</td>\n",
       "      <td>when do the 20s start</td>\n",
       "      <td>2019-07-01</td>\n",
       "    </tr>\n",
       "    <tr>\n",
       "      <th>1186017</th>\n",
       "      <td>2019-12-31</td>\n",
       "      <td>yarraville shooting woman dead man critically injured</td>\n",
       "      <td>2019-07-01</td>\n",
       "    </tr>\n",
       "  </tbody>\n",
       "</table>\n",
       "</div>"
      ],
      "text/plain": [
       "        publish_date                                           headline_text  \\\n",
       "1186013   2019-12-31       vision of flames approaching corryong in victoria   \n",
       "1186014   2019-12-31  wa police and government backflip on drug amnesty bins   \n",
       "1186015   2019-12-31       we have fears for their safety: victorian premier   \n",
       "1186016   2019-12-31                                   when do the 20s start   \n",
       "1186017   2019-12-31   yarraville shooting woman dead man critically injured   \n",
       "\n",
       "        financial_year  \n",
       "1186013     2019-07-01  \n",
       "1186014     2019-07-01  \n",
       "1186015     2019-07-01  \n",
       "1186016     2019-07-01  \n",
       "1186017     2019-07-01  "
      ]
     },
     "execution_count": 35,
     "metadata": {},
     "output_type": "execute_result"
    }
   ],
   "source": [
    "news_copy.tail()\n",
    "# numbers: 2019, 29, 4000\n",
    "# puntuation: ; : $"
   ]
  },
  {
   "cell_type": "code",
   "execution_count": 36,
   "metadata": {},
   "outputs": [
    {
     "data": {
      "text/html": [
       "<div>\n",
       "<style scoped>\n",
       "    .dataframe tbody tr th:only-of-type {\n",
       "        vertical-align: middle;\n",
       "    }\n",
       "\n",
       "    .dataframe tbody tr th {\n",
       "        vertical-align: top;\n",
       "    }\n",
       "\n",
       "    .dataframe thead th {\n",
       "        text-align: right;\n",
       "    }\n",
       "</style>\n",
       "<table border=\"1\" class=\"dataframe\">\n",
       "  <thead>\n",
       "    <tr style=\"text-align: right;\">\n",
       "      <th></th>\n",
       "      <th>publish_date</th>\n",
       "      <th>headline_text</th>\n",
       "      <th>financial_year</th>\n",
       "    </tr>\n",
       "  </thead>\n",
       "  <tbody>\n",
       "    <tr>\n",
       "      <th>26046</th>\n",
       "      <td>2003-06-24</td>\n",
       "      <td>egon schiele painting sells for record usd 20.93 million</td>\n",
       "      <td>2002-07-01</td>\n",
       "    </tr>\n",
       "    <tr>\n",
       "      <th>94005</th>\n",
       "      <td>2004-06-01</td>\n",
       "      <td>greene races to 100 meters in 9.78 seconds</td>\n",
       "      <td>2003-07-01</td>\n",
       "    </tr>\n",
       "    <tr>\n",
       "      <th>170396</th>\n",
       "      <td>2005-06-17</td>\n",
       "      <td>us current account deficit surges to record usd 195.1 billion</td>\n",
       "      <td>2004-07-01</td>\n",
       "    </tr>\n",
       "    <tr>\n",
       "      <th>181062</th>\n",
       "      <td>2005-08-09</td>\n",
       "      <td>primary health care nets 27.9 million profit</td>\n",
       "      <td>2005-07-01</td>\n",
       "    </tr>\n",
       "    <tr>\n",
       "      <th>186139</th>\n",
       "      <td>2005-09-03</td>\n",
       "      <td>us congress passes usd 10.5 billion hurricane aid</td>\n",
       "      <td>2005-07-01</td>\n",
       "    </tr>\n",
       "    <tr>\n",
       "      <th>...</th>\n",
       "      <td>...</td>\n",
       "      <td>...</td>\n",
       "      <td>...</td>\n",
       "    </tr>\n",
       "    <tr>\n",
       "      <th>1185701</th>\n",
       "      <td>2019-12-26</td>\n",
       "      <td>as facebook pivots to private; family group chats fire up</td>\n",
       "      <td>2019-07-01</td>\n",
       "    </tr>\n",
       "    <tr>\n",
       "      <th>1185939</th>\n",
       "      <td>2019-12-30</td>\n",
       "      <td>us strikes in iraq; syria target iranian backed shiite group</td>\n",
       "      <td>2019-07-01</td>\n",
       "    </tr>\n",
       "    <tr>\n",
       "      <th>1185976</th>\n",
       "      <td>2019-12-31</td>\n",
       "      <td>house saved; shed gone; everyones alive: daniel marshall</td>\n",
       "      <td>2019-07-01</td>\n",
       "    </tr>\n",
       "    <tr>\n",
       "      <th>1186004</th>\n",
       "      <td>2019-12-31</td>\n",
       "      <td>the fire is engulfing the house: tracey corbin</td>\n",
       "      <td>2019-07-01</td>\n",
       "    </tr>\n",
       "    <tr>\n",
       "      <th>1186015</th>\n",
       "      <td>2019-12-31</td>\n",
       "      <td>we have fears for their safety: victorian premier</td>\n",
       "      <td>2019-07-01</td>\n",
       "    </tr>\n",
       "  </tbody>\n",
       "</table>\n",
       "<p>23035 rows × 3 columns</p>\n",
       "</div>"
      ],
      "text/plain": [
       "        publish_date  \\\n",
       "26046     2003-06-24   \n",
       "94005     2004-06-01   \n",
       "170396    2005-06-17   \n",
       "181062    2005-08-09   \n",
       "186139    2005-09-03   \n",
       "...              ...   \n",
       "1185701   2019-12-26   \n",
       "1185939   2019-12-30   \n",
       "1185976   2019-12-31   \n",
       "1186004   2019-12-31   \n",
       "1186015   2019-12-31   \n",
       "\n",
       "                                                         headline_text  \\\n",
       "26046         egon schiele painting sells for record usd 20.93 million   \n",
       "94005                       greene races to 100 meters in 9.78 seconds   \n",
       "170396   us current account deficit surges to record usd 195.1 billion   \n",
       "181062                    primary health care nets 27.9 million profit   \n",
       "186139               us congress passes usd 10.5 billion hurricane aid   \n",
       "...                                                                ...   \n",
       "1185701      as facebook pivots to private; family group chats fire up   \n",
       "1185939   us strikes in iraq; syria target iranian backed shiite group   \n",
       "1185976       house saved; shed gone; everyones alive: daniel marshall   \n",
       "1186004                 the fire is engulfing the house: tracey corbin   \n",
       "1186015              we have fears for their safety: victorian premier   \n",
       "\n",
       "        financial_year  \n",
       "26046       2002-07-01  \n",
       "94005       2003-07-01  \n",
       "170396      2004-07-01  \n",
       "181062      2005-07-01  \n",
       "186139      2005-07-01  \n",
       "...                ...  \n",
       "1185701     2019-07-01  \n",
       "1185939     2019-07-01  \n",
       "1185976     2019-07-01  \n",
       "1186004     2019-07-01  \n",
       "1186015     2019-07-01  \n",
       "\n",
       "[23035 rows x 3 columns]"
      ]
     },
     "execution_count": 36,
     "metadata": {},
     "output_type": "execute_result"
    }
   ],
   "source": [
    "news_copy[news_copy[\"headline_text\"].str.contains('[%s]' % re.escape(string.punctuation))]"
   ]
  },
  {
   "cell_type": "code",
   "execution_count": 37,
   "metadata": {},
   "outputs": [
    {
     "data": {
      "text/html": [
       "<div>\n",
       "<style scoped>\n",
       "    .dataframe tbody tr th:only-of-type {\n",
       "        vertical-align: middle;\n",
       "    }\n",
       "\n",
       "    .dataframe tbody tr th {\n",
       "        vertical-align: top;\n",
       "    }\n",
       "\n",
       "    .dataframe thead th {\n",
       "        text-align: right;\n",
       "    }\n",
       "</style>\n",
       "<table border=\"1\" class=\"dataframe\">\n",
       "  <thead>\n",
       "    <tr style=\"text-align: right;\">\n",
       "      <th></th>\n",
       "      <th>publish_date</th>\n",
       "      <th>headline_text</th>\n",
       "      <th>financial_year</th>\n",
       "    </tr>\n",
       "  </thead>\n",
       "  <tbody>\n",
       "    <tr>\n",
       "      <th>10</th>\n",
       "      <td>2003-02-19</td>\n",
       "      <td>australia to contribute 10 million in aid to iraq</td>\n",
       "      <td>2002-07-01</td>\n",
       "    </tr>\n",
       "    <tr>\n",
       "      <th>38</th>\n",
       "      <td>2003-02-19</td>\n",
       "      <td>de villiers to learn fate on march 5</td>\n",
       "      <td>2002-07-01</td>\n",
       "    </tr>\n",
       "    <tr>\n",
       "      <th>42</th>\n",
       "      <td>2003-02-19</td>\n",
       "      <td>dog mauls 18 month old toddler in nsw</td>\n",
       "      <td>2002-07-01</td>\n",
       "    </tr>\n",
       "    <tr>\n",
       "      <th>56</th>\n",
       "      <td>2003-02-19</td>\n",
       "      <td>german court to give verdict on sept 11 accused</td>\n",
       "      <td>2002-07-01</td>\n",
       "    </tr>\n",
       "    <tr>\n",
       "      <th>84</th>\n",
       "      <td>2003-02-19</td>\n",
       "      <td>korean subway fire 314 still missing</td>\n",
       "      <td>2002-07-01</td>\n",
       "    </tr>\n",
       "    <tr>\n",
       "      <th>...</th>\n",
       "      <td>...</td>\n",
       "      <td>...</td>\n",
       "      <td>...</td>\n",
       "    </tr>\n",
       "    <tr>\n",
       "      <th>1186002</th>\n",
       "      <td>2019-12-31</td>\n",
       "      <td>tasmania new years eve guide 2019</td>\n",
       "      <td>2019-07-01</td>\n",
       "    </tr>\n",
       "    <tr>\n",
       "      <th>1186005</th>\n",
       "      <td>2019-12-31</td>\n",
       "      <td>these are the top stories of 2019 as decided by abc news readers</td>\n",
       "      <td>2019-07-01</td>\n",
       "    </tr>\n",
       "    <tr>\n",
       "      <th>1186006</th>\n",
       "      <td>2019-12-31</td>\n",
       "      <td>the year that was 2019 highlights memorable popular stories</td>\n",
       "      <td>2019-07-01</td>\n",
       "    </tr>\n",
       "    <tr>\n",
       "      <th>1186009</th>\n",
       "      <td>2019-12-31</td>\n",
       "      <td>up to 4000 people are seeking refuge on a beach in mallacoota</td>\n",
       "      <td>2019-07-01</td>\n",
       "    </tr>\n",
       "    <tr>\n",
       "      <th>1186016</th>\n",
       "      <td>2019-12-31</td>\n",
       "      <td>when do the 20s start</td>\n",
       "      <td>2019-07-01</td>\n",
       "    </tr>\n",
       "  </tbody>\n",
       "</table>\n",
       "<p>83021 rows × 3 columns</p>\n",
       "</div>"
      ],
      "text/plain": [
       "        publish_date  \\\n",
       "10        2003-02-19   \n",
       "38        2003-02-19   \n",
       "42        2003-02-19   \n",
       "56        2003-02-19   \n",
       "84        2003-02-19   \n",
       "...              ...   \n",
       "1186002   2019-12-31   \n",
       "1186005   2019-12-31   \n",
       "1186006   2019-12-31   \n",
       "1186009   2019-12-31   \n",
       "1186016   2019-12-31   \n",
       "\n",
       "                                                            headline_text  \\\n",
       "10                      australia to contribute 10 million in aid to iraq   \n",
       "38                                   de villiers to learn fate on march 5   \n",
       "42                                  dog mauls 18 month old toddler in nsw   \n",
       "56                        german court to give verdict on sept 11 accused   \n",
       "84                                   korean subway fire 314 still missing   \n",
       "...                                                                   ...   \n",
       "1186002                                 tasmania new years eve guide 2019   \n",
       "1186005  these are the top stories of 2019 as decided by abc news readers   \n",
       "1186006       the year that was 2019 highlights memorable popular stories   \n",
       "1186009     up to 4000 people are seeking refuge on a beach in mallacoota   \n",
       "1186016                                             when do the 20s start   \n",
       "\n",
       "        financial_year  \n",
       "10          2002-07-01  \n",
       "38          2002-07-01  \n",
       "42          2002-07-01  \n",
       "56          2002-07-01  \n",
       "84          2002-07-01  \n",
       "...                ...  \n",
       "1186002     2019-07-01  \n",
       "1186005     2019-07-01  \n",
       "1186006     2019-07-01  \n",
       "1186009     2019-07-01  \n",
       "1186016     2019-07-01  \n",
       "\n",
       "[83021 rows x 3 columns]"
      ]
     },
     "execution_count": 37,
     "metadata": {},
     "output_type": "execute_result"
    }
   ],
   "source": [
    "news_copy[news_copy[\"headline_text\"].str.contains('\\w*\\d\\w*')]"
   ]
  },
  {
   "cell_type": "code",
   "execution_count": 38,
   "metadata": {},
   "outputs": [
    {
     "data": {
      "text/html": [
       "<div>\n",
       "<style scoped>\n",
       "    .dataframe tbody tr th:only-of-type {\n",
       "        vertical-align: middle;\n",
       "    }\n",
       "\n",
       "    .dataframe tbody tr th {\n",
       "        vertical-align: top;\n",
       "    }\n",
       "\n",
       "    .dataframe thead th {\n",
       "        text-align: right;\n",
       "    }\n",
       "</style>\n",
       "<table border=\"1\" class=\"dataframe\">\n",
       "  <thead>\n",
       "    <tr style=\"text-align: right;\">\n",
       "      <th></th>\n",
       "      <th>publish_date</th>\n",
       "      <th>headline_text</th>\n",
       "      <th>financial_year</th>\n",
       "    </tr>\n",
       "  </thead>\n",
       "  <tbody>\n",
       "  </tbody>\n",
       "</table>\n",
       "</div>"
      ],
      "text/plain": [
       "Empty DataFrame\n",
       "Columns: [publish_date, headline_text, financial_year]\n",
       "Index: []"
      ]
     },
     "execution_count": 38,
     "metadata": {},
     "output_type": "execute_result"
    }
   ],
   "source": [
    "news_copy[news_copy[\"headline_text\"].str.contains('\\n')]"
   ]
  },
  {
   "cell_type": "code",
   "execution_count": 39,
   "metadata": {},
   "outputs": [],
   "source": [
    "from nltk.stem import WordNetLemmatizer, PorterStemmer\n",
    "porter = PorterStemmer()\n",
    "wnl = WordNetLemmatizer()"
   ]
  },
  {
   "cell_type": "code",
   "execution_count": 40,
   "metadata": {},
   "outputs": [
    {
     "data": {
      "text/plain": [
       "'profil'"
      ]
     },
     "execution_count": 40,
     "metadata": {},
     "output_type": "execute_result"
    }
   ],
   "source": [
    "w = 'profile'\n",
    "porter.stem(w)"
   ]
  },
  {
   "cell_type": "code",
   "execution_count": 41,
   "metadata": {},
   "outputs": [
    {
     "data": {
      "text/plain": [
       "'profile'"
      ]
     },
     "execution_count": 41,
     "metadata": {},
     "output_type": "execute_result"
    }
   ],
   "source": [
    "wnl.lemmatize(w)"
   ]
  },
  {
   "cell_type": "code",
   "execution_count": 42,
   "metadata": {},
   "outputs": [
    {
     "data": {
      "text/plain": [
       "'profile'"
      ]
     },
     "execution_count": 42,
     "metadata": {},
     "output_type": "execute_result"
    }
   ],
   "source": [
    "wnl.lemmatize(w) if wnl.lemmatize(w).endswith('e') else porter.stem(w)"
   ]
  },
  {
   "cell_type": "raw",
   "metadata": {},
   "source": [
    "    text_list = [wnl.lemmatize(word) if wnl.lemmatize(word).endswith('e') \n",
    "                 else porter.stem(word) for word in text_list] # Stemming the data\n",
    "\n",
    "\n",
    "[unicode(x.strip()) if x is not None else '' for x in row]\n",
    "\n",
    "\n",
    "text_list = [wnl.lemmatize(word) for word in text_list] # Stemming the data\n",
    "text_list = [wnl.lemmatize(word) for word in text_list] "
   ]
  },
  {
   "cell_type": "code",
   "execution_count": 43,
   "metadata": {},
   "outputs": [],
   "source": [
    "def clean_text(text):\n",
    "    text = re.sub('[%s]' % re.escape(string.punctuation), '', text) #remove punctuation\n",
    "    text = re.sub('\\w*\\d\\w*', '', text) # remove words with numbers\n",
    "    \n",
    "    # Stemming\n",
    "    text_list = text.split() # Convert to list\n",
    "    \n",
    "    text_list = [wnl.lemmatize(word) if wnl.lemmatize(word).endswith('e') \n",
    "                 else porter.stem(word) for word in text_list] # Stemming the data \n",
    "\n",
    "    text = \" \".join(str(i) for i in text_list) # Convert to string\n",
    "    \n",
    "    #issue with this stemming is it \n",
    "    #cuts off the e on a lot of words. e.g. licenc, decid, awar, polic\n",
    "    return text\n",
    "\n"
   ]
  },
  {
   "cell_type": "code",
   "execution_count": 44,
   "metadata": {},
   "outputs": [],
   "source": [
    "headlines_clean = pd.DataFrame(news_copy.headline_text.apply(clean_text))"
   ]
  },
  {
   "cell_type": "code",
   "execution_count": 45,
   "metadata": {},
   "outputs": [
    {
     "data": {
      "text/html": [
       "<div>\n",
       "<style scoped>\n",
       "    .dataframe tbody tr th:only-of-type {\n",
       "        vertical-align: middle;\n",
       "    }\n",
       "\n",
       "    .dataframe tbody tr th {\n",
       "        vertical-align: top;\n",
       "    }\n",
       "\n",
       "    .dataframe thead th {\n",
       "        text-align: right;\n",
       "    }\n",
       "</style>\n",
       "<table border=\"1\" class=\"dataframe\">\n",
       "  <thead>\n",
       "    <tr style=\"text-align: right;\">\n",
       "      <th></th>\n",
       "      <th>headline_text</th>\n",
       "    </tr>\n",
       "  </thead>\n",
       "  <tbody>\n",
       "    <tr>\n",
       "      <th>0</th>\n",
       "      <td>aba decid against commun broadcast licence</td>\n",
       "    </tr>\n",
       "    <tr>\n",
       "      <th>1</th>\n",
       "      <td>act fire wit must be aware of defam</td>\n",
       "    </tr>\n",
       "    <tr>\n",
       "      <th>2</th>\n",
       "      <td>a g call for infrastructure protect summit</td>\n",
       "    </tr>\n",
       "    <tr>\n",
       "      <th>3</th>\n",
       "      <td>air nz staff in aust strike for pay rise</td>\n",
       "    </tr>\n",
       "    <tr>\n",
       "      <th>4</th>\n",
       "      <td>air nz strike to affect australian travel</td>\n",
       "    </tr>\n",
       "    <tr>\n",
       "      <th>...</th>\n",
       "      <td>...</td>\n",
       "    </tr>\n",
       "    <tr>\n",
       "      <th>1186013</th>\n",
       "      <td>vision of flame approach corryong in victoria</td>\n",
       "    </tr>\n",
       "    <tr>\n",
       "      <th>1186014</th>\n",
       "      <td>wa police and govern backflip on drug amnesti bin</td>\n",
       "    </tr>\n",
       "    <tr>\n",
       "      <th>1186015</th>\n",
       "      <td>we have fear for their safeti victorian premier</td>\n",
       "    </tr>\n",
       "    <tr>\n",
       "      <th>1186016</th>\n",
       "      <td>when do the start</td>\n",
       "    </tr>\n",
       "    <tr>\n",
       "      <th>1186017</th>\n",
       "      <td>yarraville shoot woman dead man critic injur</td>\n",
       "    </tr>\n",
       "  </tbody>\n",
       "</table>\n",
       "<p>1186018 rows × 1 columns</p>\n",
       "</div>"
      ],
      "text/plain": [
       "                                             headline_text\n",
       "0               aba decid against commun broadcast licence\n",
       "1                      act fire wit must be aware of defam\n",
       "2               a g call for infrastructure protect summit\n",
       "3                 air nz staff in aust strike for pay rise\n",
       "4                air nz strike to affect australian travel\n",
       "...                                                    ...\n",
       "1186013      vision of flame approach corryong in victoria\n",
       "1186014  wa police and govern backflip on drug amnesti bin\n",
       "1186015    we have fear for their safeti victorian premier\n",
       "1186016                                  when do the start\n",
       "1186017       yarraville shoot woman dead man critic injur\n",
       "\n",
       "[1186018 rows x 1 columns]"
      ]
     },
     "execution_count": 45,
     "metadata": {},
     "output_type": "execute_result"
    }
   ],
   "source": [
    "headlines_clean"
   ]
  },
  {
   "cell_type": "markdown",
   "metadata": {},
   "source": [
    "### Replace original \"headline_text\" with clean version"
   ]
  },
  {
   "cell_type": "code",
   "execution_count": 46,
   "metadata": {},
   "outputs": [],
   "source": [
    "news_copy[\"headline_text\"] = headlines_clean[\"headline_text\"]"
   ]
  },
  {
   "cell_type": "code",
   "execution_count": 47,
   "metadata": {},
   "outputs": [
    {
     "data": {
      "text/html": [
       "<div>\n",
       "<style scoped>\n",
       "    .dataframe tbody tr th:only-of-type {\n",
       "        vertical-align: middle;\n",
       "    }\n",
       "\n",
       "    .dataframe tbody tr th {\n",
       "        vertical-align: top;\n",
       "    }\n",
       "\n",
       "    .dataframe thead th {\n",
       "        text-align: right;\n",
       "    }\n",
       "</style>\n",
       "<table border=\"1\" class=\"dataframe\">\n",
       "  <thead>\n",
       "    <tr style=\"text-align: right;\">\n",
       "      <th></th>\n",
       "      <th>publish_date</th>\n",
       "      <th>headline_text</th>\n",
       "      <th>financial_year</th>\n",
       "    </tr>\n",
       "  </thead>\n",
       "  <tbody>\n",
       "    <tr>\n",
       "      <th>0</th>\n",
       "      <td>2003-02-19</td>\n",
       "      <td>aba decid against commun broadcast licence</td>\n",
       "      <td>2002-07-01</td>\n",
       "    </tr>\n",
       "    <tr>\n",
       "      <th>1</th>\n",
       "      <td>2003-02-19</td>\n",
       "      <td>act fire wit must be aware of defam</td>\n",
       "      <td>2002-07-01</td>\n",
       "    </tr>\n",
       "    <tr>\n",
       "      <th>2</th>\n",
       "      <td>2003-02-19</td>\n",
       "      <td>a g call for infrastructure protect summit</td>\n",
       "      <td>2002-07-01</td>\n",
       "    </tr>\n",
       "    <tr>\n",
       "      <th>3</th>\n",
       "      <td>2003-02-19</td>\n",
       "      <td>air nz staff in aust strike for pay rise</td>\n",
       "      <td>2002-07-01</td>\n",
       "    </tr>\n",
       "    <tr>\n",
       "      <th>4</th>\n",
       "      <td>2003-02-19</td>\n",
       "      <td>air nz strike to affect australian travel</td>\n",
       "      <td>2002-07-01</td>\n",
       "    </tr>\n",
       "    <tr>\n",
       "      <th>...</th>\n",
       "      <td>...</td>\n",
       "      <td>...</td>\n",
       "      <td>...</td>\n",
       "    </tr>\n",
       "    <tr>\n",
       "      <th>1186013</th>\n",
       "      <td>2019-12-31</td>\n",
       "      <td>vision of flame approach corryong in victoria</td>\n",
       "      <td>2019-07-01</td>\n",
       "    </tr>\n",
       "    <tr>\n",
       "      <th>1186014</th>\n",
       "      <td>2019-12-31</td>\n",
       "      <td>wa police and govern backflip on drug amnesti bin</td>\n",
       "      <td>2019-07-01</td>\n",
       "    </tr>\n",
       "    <tr>\n",
       "      <th>1186015</th>\n",
       "      <td>2019-12-31</td>\n",
       "      <td>we have fear for their safeti victorian premier</td>\n",
       "      <td>2019-07-01</td>\n",
       "    </tr>\n",
       "    <tr>\n",
       "      <th>1186016</th>\n",
       "      <td>2019-12-31</td>\n",
       "      <td>when do the start</td>\n",
       "      <td>2019-07-01</td>\n",
       "    </tr>\n",
       "    <tr>\n",
       "      <th>1186017</th>\n",
       "      <td>2019-12-31</td>\n",
       "      <td>yarraville shoot woman dead man critic injur</td>\n",
       "      <td>2019-07-01</td>\n",
       "    </tr>\n",
       "  </tbody>\n",
       "</table>\n",
       "<p>1186018 rows × 3 columns</p>\n",
       "</div>"
      ],
      "text/plain": [
       "        publish_date                                      headline_text  \\\n",
       "0         2003-02-19         aba decid against commun broadcast licence   \n",
       "1         2003-02-19                act fire wit must be aware of defam   \n",
       "2         2003-02-19         a g call for infrastructure protect summit   \n",
       "3         2003-02-19           air nz staff in aust strike for pay rise   \n",
       "4         2003-02-19          air nz strike to affect australian travel   \n",
       "...              ...                                                ...   \n",
       "1186013   2019-12-31      vision of flame approach corryong in victoria   \n",
       "1186014   2019-12-31  wa police and govern backflip on drug amnesti bin   \n",
       "1186015   2019-12-31    we have fear for their safeti victorian premier   \n",
       "1186016   2019-12-31                                  when do the start   \n",
       "1186017   2019-12-31       yarraville shoot woman dead man critic injur   \n",
       "\n",
       "        financial_year  \n",
       "0           2002-07-01  \n",
       "1           2002-07-01  \n",
       "2           2002-07-01  \n",
       "3           2002-07-01  \n",
       "4           2002-07-01  \n",
       "...                ...  \n",
       "1186013     2019-07-01  \n",
       "1186014     2019-07-01  \n",
       "1186015     2019-07-01  \n",
       "1186016     2019-07-01  \n",
       "1186017     2019-07-01  \n",
       "\n",
       "[1186018 rows x 3 columns]"
      ]
     },
     "execution_count": 47,
     "metadata": {},
     "output_type": "execute_result"
    }
   ],
   "source": [
    "news_copy"
   ]
  },
  {
   "cell_type": "code",
   "execution_count": 48,
   "metadata": {},
   "outputs": [
    {
     "data": {
      "text/plain": [
       "publish_date      datetime64[ns]\n",
       "headline_text             object\n",
       "financial_year    datetime64[ns]\n",
       "dtype: object"
      ]
     },
     "execution_count": 48,
     "metadata": {},
     "output_type": "execute_result"
    }
   ],
   "source": [
    "news_copy.dtypes"
   ]
  },
  {
   "cell_type": "code",
   "execution_count": 49,
   "metadata": {},
   "outputs": [
    {
     "data": {
      "text/plain": [
       "publish_date      0\n",
       "headline_text     0\n",
       "financial_year    0\n",
       "dtype: int64"
      ]
     },
     "execution_count": 49,
     "metadata": {},
     "output_type": "execute_result"
    }
   ],
   "source": [
    "news_copy.isna().sum()"
   ]
  },
  {
   "cell_type": "markdown",
   "metadata": {},
   "source": [
    "## Remove stop words"
   ]
  },
  {
   "cell_type": "code",
   "execution_count": 50,
   "metadata": {},
   "outputs": [],
   "source": [
    "cv = CountVectorizer(stop_words='english')"
   ]
  },
  {
   "cell_type": "code",
   "execution_count": 51,
   "metadata": {},
   "outputs": [],
   "source": [
    "data_cv = cv.fit_transform(news_copy.headline_text)\n"
   ]
  },
  {
   "cell_type": "code",
   "execution_count": 52,
   "metadata": {},
   "outputs": [],
   "source": [
    "news_dtm = pd.DataFrame(data_cv.toarray(), columns=cv.get_feature_names())"
   ]
  },
  {
   "cell_type": "code",
   "execution_count": 53,
   "metadata": {},
   "outputs": [],
   "source": [
    "news_dtm.index = news_copy.index"
   ]
  },
  {
   "cell_type": "code",
   "execution_count": 54,
   "metadata": {},
   "outputs": [
    {
     "data": {
      "text/html": [
       "<div>\n",
       "<style scoped>\n",
       "    .dataframe tbody tr th:only-of-type {\n",
       "        vertical-align: middle;\n",
       "    }\n",
       "\n",
       "    .dataframe tbody tr th {\n",
       "        vertical-align: top;\n",
       "    }\n",
       "\n",
       "    .dataframe thead th {\n",
       "        text-align: right;\n",
       "    }\n",
       "</style>\n",
       "<table border=\"1\" class=\"dataframe\">\n",
       "  <thead>\n",
       "    <tr style=\"text-align: right;\">\n",
       "      <th></th>\n",
       "      <th>aa</th>\n",
       "      <th>aaa</th>\n",
       "      <th>aaahhh</th>\n",
       "      <th>aac</th>\n",
       "      <th>aacc</th>\n",
       "      <th>aaco</th>\n",
       "      <th>aacta</th>\n",
       "      <th>aad</th>\n",
       "      <th>aadhaar</th>\n",
       "      <th>aadmi</th>\n",
       "      <th>...</th>\n",
       "      <th>zydelig</th>\n",
       "      <th>zygar</th>\n",
       "      <th>zygief</th>\n",
       "      <th>zygier</th>\n",
       "      <th>zyl</th>\n",
       "      <th>zylvest</th>\n",
       "      <th>zynga</th>\n",
       "      <th>zyngier</th>\n",
       "      <th>zz</th>\n",
       "      <th>zzz</th>\n",
       "    </tr>\n",
       "  </thead>\n",
       "  <tbody>\n",
       "    <tr>\n",
       "      <th>0</th>\n",
       "      <td>0</td>\n",
       "      <td>0</td>\n",
       "      <td>0</td>\n",
       "      <td>0</td>\n",
       "      <td>0</td>\n",
       "      <td>0</td>\n",
       "      <td>0</td>\n",
       "      <td>0</td>\n",
       "      <td>0</td>\n",
       "      <td>0</td>\n",
       "      <td>...</td>\n",
       "      <td>0</td>\n",
       "      <td>0</td>\n",
       "      <td>0</td>\n",
       "      <td>0</td>\n",
       "      <td>0</td>\n",
       "      <td>0</td>\n",
       "      <td>0</td>\n",
       "      <td>0</td>\n",
       "      <td>0</td>\n",
       "      <td>0</td>\n",
       "    </tr>\n",
       "    <tr>\n",
       "      <th>1</th>\n",
       "      <td>0</td>\n",
       "      <td>0</td>\n",
       "      <td>0</td>\n",
       "      <td>0</td>\n",
       "      <td>0</td>\n",
       "      <td>0</td>\n",
       "      <td>0</td>\n",
       "      <td>0</td>\n",
       "      <td>0</td>\n",
       "      <td>0</td>\n",
       "      <td>...</td>\n",
       "      <td>0</td>\n",
       "      <td>0</td>\n",
       "      <td>0</td>\n",
       "      <td>0</td>\n",
       "      <td>0</td>\n",
       "      <td>0</td>\n",
       "      <td>0</td>\n",
       "      <td>0</td>\n",
       "      <td>0</td>\n",
       "      <td>0</td>\n",
       "    </tr>\n",
       "    <tr>\n",
       "      <th>2</th>\n",
       "      <td>0</td>\n",
       "      <td>0</td>\n",
       "      <td>0</td>\n",
       "      <td>0</td>\n",
       "      <td>0</td>\n",
       "      <td>0</td>\n",
       "      <td>0</td>\n",
       "      <td>0</td>\n",
       "      <td>0</td>\n",
       "      <td>0</td>\n",
       "      <td>...</td>\n",
       "      <td>0</td>\n",
       "      <td>0</td>\n",
       "      <td>0</td>\n",
       "      <td>0</td>\n",
       "      <td>0</td>\n",
       "      <td>0</td>\n",
       "      <td>0</td>\n",
       "      <td>0</td>\n",
       "      <td>0</td>\n",
       "      <td>0</td>\n",
       "    </tr>\n",
       "    <tr>\n",
       "      <th>3</th>\n",
       "      <td>0</td>\n",
       "      <td>0</td>\n",
       "      <td>0</td>\n",
       "      <td>0</td>\n",
       "      <td>0</td>\n",
       "      <td>0</td>\n",
       "      <td>0</td>\n",
       "      <td>0</td>\n",
       "      <td>0</td>\n",
       "      <td>0</td>\n",
       "      <td>...</td>\n",
       "      <td>0</td>\n",
       "      <td>0</td>\n",
       "      <td>0</td>\n",
       "      <td>0</td>\n",
       "      <td>0</td>\n",
       "      <td>0</td>\n",
       "      <td>0</td>\n",
       "      <td>0</td>\n",
       "      <td>0</td>\n",
       "      <td>0</td>\n",
       "    </tr>\n",
       "    <tr>\n",
       "      <th>4</th>\n",
       "      <td>0</td>\n",
       "      <td>0</td>\n",
       "      <td>0</td>\n",
       "      <td>0</td>\n",
       "      <td>0</td>\n",
       "      <td>0</td>\n",
       "      <td>0</td>\n",
       "      <td>0</td>\n",
       "      <td>0</td>\n",
       "      <td>0</td>\n",
       "      <td>...</td>\n",
       "      <td>0</td>\n",
       "      <td>0</td>\n",
       "      <td>0</td>\n",
       "      <td>0</td>\n",
       "      <td>0</td>\n",
       "      <td>0</td>\n",
       "      <td>0</td>\n",
       "      <td>0</td>\n",
       "      <td>0</td>\n",
       "      <td>0</td>\n",
       "    </tr>\n",
       "  </tbody>\n",
       "</table>\n",
       "<p>5 rows × 73287 columns</p>\n",
       "</div>"
      ],
      "text/plain": [
       "   aa  aaa  aaahhh  aac  aacc  aaco  aacta  aad  aadhaar  aadmi  ...  zydelig  \\\n",
       "0   0    0       0    0     0     0      0    0        0      0  ...        0   \n",
       "1   0    0       0    0     0     0      0    0        0      0  ...        0   \n",
       "2   0    0       0    0     0     0      0    0        0      0  ...        0   \n",
       "3   0    0       0    0     0     0      0    0        0      0  ...        0   \n",
       "4   0    0       0    0     0     0      0    0        0      0  ...        0   \n",
       "\n",
       "   zygar  zygief  zygier  zyl  zylvest  zynga  zyngier  zz  zzz  \n",
       "0      0       0       0    0        0      0        0   0    0  \n",
       "1      0       0       0    0        0      0        0   0    0  \n",
       "2      0       0       0    0        0      0        0   0    0  \n",
       "3      0       0       0    0        0      0        0   0    0  \n",
       "4      0       0       0    0        0      0        0   0    0  \n",
       "\n",
       "[5 rows x 73287 columns]"
      ]
     },
     "execution_count": 54,
     "metadata": {},
     "output_type": "execute_result"
    }
   ],
   "source": [
    "news_dtm.head()"
   ]
  },
  {
   "cell_type": "code",
   "execution_count": 55,
   "metadata": {},
   "outputs": [],
   "source": [
    "news = news_copy"
   ]
  },
  {
   "cell_type": "code",
   "execution_count": 56,
   "metadata": {},
   "outputs": [
    {
     "data": {
      "text/plain": [
       "publish_date      0\n",
       "headline_text     0\n",
       "financial_year    0\n",
       "dtype: int64"
      ]
     },
     "execution_count": 56,
     "metadata": {},
     "output_type": "execute_result"
    }
   ],
   "source": [
    "news.isna().sum()"
   ]
  },
  {
   "cell_type": "code",
   "execution_count": 57,
   "metadata": {},
   "outputs": [
    {
     "data": {
      "text/html": [
       "<div>\n",
       "<style scoped>\n",
       "    .dataframe tbody tr th:only-of-type {\n",
       "        vertical-align: middle;\n",
       "    }\n",
       "\n",
       "    .dataframe tbody tr th {\n",
       "        vertical-align: top;\n",
       "    }\n",
       "\n",
       "    .dataframe thead th {\n",
       "        text-align: right;\n",
       "    }\n",
       "</style>\n",
       "<table border=\"1\" class=\"dataframe\">\n",
       "  <thead>\n",
       "    <tr style=\"text-align: right;\">\n",
       "      <th></th>\n",
       "      <th>publish_date</th>\n",
       "      <th>headline_text</th>\n",
       "      <th>financial_year</th>\n",
       "    </tr>\n",
       "  </thead>\n",
       "  <tbody>\n",
       "    <tr>\n",
       "      <th>235989</th>\n",
       "      <td>2006-05-11</td>\n",
       "      <td></td>\n",
       "      <td>2005-07-01</td>\n",
       "    </tr>\n",
       "    <tr>\n",
       "      <th>236757</th>\n",
       "      <td>2006-05-15</td>\n",
       "      <td></td>\n",
       "      <td>2005-07-01</td>\n",
       "    </tr>\n",
       "    <tr>\n",
       "      <th>243358</th>\n",
       "      <td>2006-06-15</td>\n",
       "      <td></td>\n",
       "      <td>2005-07-01</td>\n",
       "    </tr>\n",
       "    <tr>\n",
       "      <th>254803</th>\n",
       "      <td>2006-08-10</td>\n",
       "      <td></td>\n",
       "      <td>2006-07-01</td>\n",
       "    </tr>\n",
       "    <tr>\n",
       "      <th>274837</th>\n",
       "      <td>2006-12-19</td>\n",
       "      <td></td>\n",
       "      <td>2006-07-01</td>\n",
       "    </tr>\n",
       "    <tr>\n",
       "      <th>603318</th>\n",
       "      <td>2011-03-25</td>\n",
       "      <td></td>\n",
       "      <td>2010-07-01</td>\n",
       "    </tr>\n",
       "    <tr>\n",
       "      <th>658067</th>\n",
       "      <td>2011-12-07</td>\n",
       "      <td></td>\n",
       "      <td>2011-07-01</td>\n",
       "    </tr>\n",
       "    <tr>\n",
       "      <th>771294</th>\n",
       "      <td>2013-03-18</td>\n",
       "      <td></td>\n",
       "      <td>2012-07-01</td>\n",
       "    </tr>\n",
       "    <tr>\n",
       "      <th>782023</th>\n",
       "      <td>2013-04-26</td>\n",
       "      <td></td>\n",
       "      <td>2012-07-01</td>\n",
       "    </tr>\n",
       "    <tr>\n",
       "      <th>784872</th>\n",
       "      <td>2013-05-08</td>\n",
       "      <td></td>\n",
       "      <td>2012-07-01</td>\n",
       "    </tr>\n",
       "    <tr>\n",
       "      <th>997865</th>\n",
       "      <td>2015-12-06</td>\n",
       "      <td></td>\n",
       "      <td>2015-07-01</td>\n",
       "    </tr>\n",
       "    <tr>\n",
       "      <th>1035883</th>\n",
       "      <td>2016-07-07</td>\n",
       "      <td></td>\n",
       "      <td>2016-07-01</td>\n",
       "    </tr>\n",
       "  </tbody>\n",
       "</table>\n",
       "</div>"
      ],
      "text/plain": [
       "        publish_date headline_text financial_year\n",
       "235989    2006-05-11                   2005-07-01\n",
       "236757    2006-05-15                   2005-07-01\n",
       "243358    2006-06-15                   2005-07-01\n",
       "254803    2006-08-10                   2006-07-01\n",
       "274837    2006-12-19                   2006-07-01\n",
       "603318    2011-03-25                   2010-07-01\n",
       "658067    2011-12-07                   2011-07-01\n",
       "771294    2013-03-18                   2012-07-01\n",
       "782023    2013-04-26                   2012-07-01\n",
       "784872    2013-05-08                   2012-07-01\n",
       "997865    2015-12-06                   2015-07-01\n",
       "1035883   2016-07-07                   2016-07-01"
      ]
     },
     "execution_count": 57,
     "metadata": {},
     "output_type": "execute_result"
    }
   ],
   "source": [
    "news[(news['headline_text'] == '')]"
   ]
  },
  {
   "cell_type": "markdown",
   "metadata": {},
   "source": [
    "# Checkpoint: export to csv"
   ]
  },
  {
   "cell_type": "code",
   "execution_count": 58,
   "metadata": {},
   "outputs": [],
   "source": [
    "news.to_csv('abc_news_clean.csv', sep=',', index=False, date_format='%Y-%m-%d')"
   ]
  },
  {
   "cell_type": "code",
   "execution_count": 102,
   "metadata": {},
   "outputs": [
    {
     "ename": "NameError",
     "evalue": "name 'hello' is not defined",
     "output_type": "error",
     "traceback": [
      "\u001b[0;31m---------------------------------------------------------------------------\u001b[0m",
      "\u001b[0;31mNameError\u001b[0m                                 Traceback (most recent call last)",
      "\u001b[0;32m<ipython-input-102-f572d396fae9>\u001b[0m in \u001b[0;36m<module>\u001b[0;34m\u001b[0m\n\u001b[0;32m----> 1\u001b[0;31m \u001b[0mhello\u001b[0m\u001b[0;34m\u001b[0m\u001b[0;34m\u001b[0m\u001b[0m\n\u001b[0m",
      "\u001b[0;31mNameError\u001b[0m: name 'hello' is not defined"
     ]
    }
   ],
   "source": [
    "hello"
   ]
  },
  {
   "cell_type": "code",
   "execution_count": null,
   "metadata": {},
   "outputs": [],
   "source": []
  },
  {
   "cell_type": "code",
   "execution_count": null,
   "metadata": {},
   "outputs": [],
   "source": []
  },
  {
   "cell_type": "code",
   "execution_count": null,
   "metadata": {},
   "outputs": [],
   "source": []
  },
  {
   "cell_type": "code",
   "execution_count": null,
   "metadata": {},
   "outputs": [],
   "source": []
  },
  {
   "cell_type": "code",
   "execution_count": null,
   "metadata": {},
   "outputs": [],
   "source": []
  },
  {
   "cell_type": "code",
   "execution_count": null,
   "metadata": {},
   "outputs": [],
   "source": []
  },
  {
   "cell_type": "code",
   "execution_count": null,
   "metadata": {},
   "outputs": [],
   "source": []
  },
  {
   "cell_type": "code",
   "execution_count": null,
   "metadata": {},
   "outputs": [],
   "source": []
  },
  {
   "cell_type": "markdown",
   "metadata": {},
   "source": [
    "# EXTRA - NOT SURE WHAT TO DO WITH YET"
   ]
  },
  {
   "cell_type": "code",
   "execution_count": null,
   "metadata": {},
   "outputs": [],
   "source": [
    "import nltk\n",
    "from nltk.tokenize import sent_tokenize, word_tokenize "
   ]
  },
  {
   "cell_type": "code",
   "execution_count": null,
   "metadata": {},
   "outputs": [],
   "source": [
    "\n",
    "news['headline_text'].apply(word_tokenize)\n",
    " Resource punkt not found.\n",
    "  Please use the NLTK Downloader to obtain the resource:\n",
    "\n",
    "  >>> import nltk\n",
    "  >>> nltk.download('punkt')"
   ]
  },
  {
   "cell_type": "code",
   "execution_count": null,
   "metadata": {},
   "outputs": [],
   "source": [
    "news['headlines_tokenized'] = news['headline_text'].apply(tokenizer.tokenize)"
   ]
  },
  {
   "cell_type": "code",
   "execution_count": null,
   "metadata": {},
   "outputs": [],
   "source": []
  },
  {
   "cell_type": "code",
   "execution_count": null,
   "metadata": {},
   "outputs": [],
   "source": [
    "# split() returns list of all the words in the string \n",
    "split_it = news['headline_text'[0]].split() "
   ]
  },
  {
   "cell_type": "code",
   "execution_count": null,
   "metadata": {},
   "outputs": [],
   "source": [
    "\n",
    "  \n",
    "# Pass the split_it list to instance of Counter class. \n",
    "Counter = Counter(split_it) \n",
    "  \n",
    "# most_common() produces k frequently encountered \n",
    "# input values and their respective counts. \n",
    "most_occur = Counter.most_common(4) \n",
    "  \n",
    "print(most_occur) "
   ]
  },
  {
   "cell_type": "code",
   "execution_count": null,
   "metadata": {},
   "outputs": [],
   "source": []
  },
  {
   "cell_type": "code",
   "execution_count": null,
   "metadata": {},
   "outputs": [],
   "source": []
  },
  {
   "cell_type": "code",
   "execution_count": null,
   "metadata": {},
   "outputs": [],
   "source": [
    "\n",
    "words, word_values = get_top_n_words(n_top_words=15,\n",
    "                                     count_vectorizer=count_vectorizer, \n",
    "                                     text_data=reindexed_data)\n",
    "\n",
    "fig, ax = plt.subplots(figsize=(16,8))\n",
    "ax.bar(range(len(words)), word_values);\n",
    "ax.set_xticks(range(len(words)));\n",
    "ax.set_xticklabels(words, rotation='vertical');\n",
    "ax.set_title('Top words in headlines dataset (excluding stop words)');\n",
    "ax.set_xlabel('Word');\n",
    "ax.set_ylabel('Number of occurences');\n",
    "plt.show()"
   ]
  },
  {
   "cell_type": "code",
   "execution_count": null,
   "metadata": {},
   "outputs": [],
   "source": []
  },
  {
   "cell_type": "code",
   "execution_count": null,
   "metadata": {},
   "outputs": [],
   "source": []
  },
  {
   "cell_type": "code",
   "execution_count": null,
   "metadata": {},
   "outputs": [],
   "source": []
  },
  {
   "cell_type": "code",
   "execution_count": null,
   "metadata": {},
   "outputs": [],
   "source": []
  },
  {
   "cell_type": "code",
   "execution_count": null,
   "metadata": {},
   "outputs": [],
   "source": []
  },
  {
   "cell_type": "code",
   "execution_count": null,
   "metadata": {},
   "outputs": [],
   "source": [
    "import spacy"
   ]
  },
  {
   "cell_type": "code",
   "execution_count": null,
   "metadata": {},
   "outputs": [],
   "source": [
    "nlp = spacy.load(\"en_core_web_sm\")\n",
    "doc = nlp(\"Apple is looking at buying U.K. startup for $1 billion\")\n",
    "for token in doc:\n",
    "    print(token.text, token.pos_, token.dep_)"
   ]
  },
  {
   "cell_type": "code",
   "execution_count": null,
   "metadata": {},
   "outputs": [],
   "source": [
    "for token in doc:\n",
    "    print(token.text)"
   ]
  },
  {
   "cell_type": "code",
   "execution_count": null,
   "metadata": {},
   "outputs": [],
   "source": [
    "for token in doc:\n",
    "    print(token.text, token.lemma_, token.pos_, token.tag_, token.dep_,\n",
    "            token.shape_, token.is_alpha, token.is_stop)"
   ]
  },
  {
   "cell_type": "code",
   "execution_count": null,
   "metadata": {},
   "outputs": [],
   "source": [
    "spacy.explain(\"SYM\")"
   ]
  },
  {
   "cell_type": "code",
   "execution_count": null,
   "metadata": {},
   "outputs": [],
   "source": [
    "for token in doc:\n",
    "    print(token.lemma_)"
   ]
  },
  {
   "cell_type": "code",
   "execution_count": null,
   "metadata": {},
   "outputs": [],
   "source": [
    "for ent in doc.ents:\n",
    "    print(ent.text, ent.start_char, ent.end_char, ent.label_)"
   ]
  },
  {
   "cell_type": "code",
   "execution_count": null,
   "metadata": {},
   "outputs": [],
   "source": [
    "spacy.explain(\"GPE\")"
   ]
  },
  {
   "cell_type": "code",
   "execution_count": null,
   "metadata": {},
   "outputs": [],
   "source": [
    "tokens = nlp(\"dog cat banana afskfsd\")\n",
    "for token in tokens:\n",
    "    print(token.text, token.has_vector, token.vector_norm, token.is_oov)\n"
   ]
  },
  {
   "cell_type": "code",
   "execution_count": null,
   "metadata": {},
   "outputs": [],
   "source": []
  },
  {
   "cell_type": "markdown",
   "metadata": {},
   "source": [
    "# DIDN'T USE"
   ]
  },
  {
   "cell_type": "code",
   "execution_count": null,
   "metadata": {},
   "outputs": [],
   "source": [
    "#to display/show more columns\n",
    "#pd.set_option('display.max_columns', 50)"
   ]
  },
  {
   "cell_type": "code",
   "execution_count": null,
   "metadata": {},
   "outputs": [],
   "source": []
  },
  {
   "cell_type": "markdown",
   "metadata": {},
   "source": [
    "### change data types to integers - didn't work, maybe don't need?"
   ]
  },
  {
   "cell_type": "code",
   "execution_count": null,
   "metadata": {},
   "outputs": [],
   "source": [
    "news_copy.dtypes"
   ]
  },
  {
   "cell_type": "code",
   "execution_count": null,
   "metadata": {},
   "outputs": [],
   "source": [
    "#news_copy['financial_year' == '2003–04'] = news_copy['financial_year' == '2003–04'].astype('Int64')\n",
    "#error: False"
   ]
  },
  {
   "cell_type": "code",
   "execution_count": null,
   "metadata": {},
   "outputs": [],
   "source": [
    "#news_copy.astype({'financial_year': 'int32'}).dtypes\n",
    "#ValueError: cannot convert float NaN to integer"
   ]
  },
  {
   "cell_type": "code",
   "execution_count": null,
   "metadata": {},
   "outputs": [],
   "source": [
    "#news_copy.astype({'financial_year': 'float'}).dtypes\n",
    "#ValueError: invalid literal for int() with base 10: '2002-03'\n",
    "#ValueError: could not convert string to float: '2002-03'"
   ]
  },
  {
   "cell_type": "code",
   "execution_count": null,
   "metadata": {},
   "outputs": [],
   "source": [
    "'''\n",
    "news_copy['2003–04'] = news_copy['2003–04'].astype('Int64')\n",
    "news_copy['2004–05'] = news_copy['2004–05'].astype('Int64')\n",
    "news_copy['2005–06'] = news_copy['2005–06'].astype('Int64')\n",
    "news_copy['2006–07'] = news_copy['2006–07'].astype('Int64')\n",
    "news_copy['2007–08'] = news_copy['2007–08'].astype('Int64')\n",
    "news_copy['2008–09'] = news_copy['2008–09'].astype('Int64')\n",
    "news_copy['2009–10'] = news_copy['2009–10'].astype('Int64')\n",
    "news_copy['2010–11'] = news_copy['2010–11'].astype('Int64')\n",
    "news_copy['2011–12'] = news_copy['2011–12'].astype('Int64')\n",
    "news_copy['2012–13'] = news_copy['2012–13'].astype('Int64')\n",
    "news_copy['2013–14'] = news_copy['2013–14'].astype('Int64')\n",
    "news_copy['2014–15'] = news_copy['2014–15'].astype('Int64')\n",
    "news_copy['2015–16'] = news_copy['2015–16'].astype('Int64')\n",
    "news_copy['2016–17'] = news_copy['2016–17'].astype('Int64')\n",
    "news_copy['2017–18'] = news_copy['2017–18'].astype('Int64')\n",
    "news_copy['2018–19'] = news_copy['2018–19'].astype('Int64') '''\n",
    "#this didn't work, these were columns, I'm changing individual values\n",
    "#come back to later"
   ]
  }
 ],
 "metadata": {
  "kernelspec": {
   "display_name": "Python 3",
   "language": "python",
   "name": "python3"
  },
  "language_info": {
   "codemirror_mode": {
    "name": "ipython",
    "version": 3
   },
   "file_extension": ".py",
   "mimetype": "text/x-python",
   "name": "python",
   "nbconvert_exporter": "python",
   "pygments_lexer": "ipython3",
   "version": "3.8.5"
  }
 },
 "nbformat": 4,
 "nbformat_minor": 4
}
