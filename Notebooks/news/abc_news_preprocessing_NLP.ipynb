{
 "cells": [
  {
   "cell_type": "code",
   "execution_count": 1,
   "metadata": {},
   "outputs": [
    {
     "name": "stderr",
     "output_type": "stream",
     "text": [
      "[nltk_data] Downloading package wordnet to /Users/imogen/nltk_data...\n",
      "[nltk_data]   Package wordnet is already up-to-date!\n",
      "[nltk_data] Downloading package words to /Users/imogen/nltk_data...\n",
      "[nltk_data]   Package words is already up-to-date!\n",
      "[nltk_data] Downloading package stopwords to\n",
      "[nltk_data]     /Users/imogen/nltk_data...\n",
      "[nltk_data]   Package stopwords is already up-to-date!\n"
     ]
    }
   ],
   "source": [
    "import pandas as pd\n",
    "import numpy as np\n",
    "import matplotlib.pyplot as plt\n",
    "from sklearn.feature_extraction.text import CountVectorizer\n",
    "import re\n",
    "import string\n",
    "import nltk\n",
    "nltk.download('wordnet')\n",
    "nltk.download('words')\n",
    "nltk.download('stopwords')\n",
    "from nltk.corpus import stopwords\n",
    "from nltk.stem.porter import PorterStemmer"
   ]
  },
  {
   "cell_type": "code",
   "execution_count": 35,
   "metadata": {},
   "outputs": [],
   "source": [
    "news = pd.read_csv('../../csv_files/news/abcnews-date-text.csv')"
   ]
  },
  {
   "cell_type": "code",
   "execution_count": 36,
   "metadata": {},
   "outputs": [],
   "source": [
    "pd.set_option('display.max_colwidth', None)"
   ]
  },
  {
   "cell_type": "code",
   "execution_count": 37,
   "metadata": {},
   "outputs": [
    {
     "data": {
      "text/html": [
       "<div>\n",
       "<style scoped>\n",
       "    .dataframe tbody tr th:only-of-type {\n",
       "        vertical-align: middle;\n",
       "    }\n",
       "\n",
       "    .dataframe tbody tr th {\n",
       "        vertical-align: top;\n",
       "    }\n",
       "\n",
       "    .dataframe thead th {\n",
       "        text-align: right;\n",
       "    }\n",
       "</style>\n",
       "<table border=\"1\" class=\"dataframe\">\n",
       "  <thead>\n",
       "    <tr style=\"text-align: right;\">\n",
       "      <th></th>\n",
       "      <th>publish_date</th>\n",
       "      <th>headline_text</th>\n",
       "    </tr>\n",
       "  </thead>\n",
       "  <tbody>\n",
       "    <tr>\n",
       "      <th>0</th>\n",
       "      <td>20030219</td>\n",
       "      <td>aba decides against community broadcasting licence</td>\n",
       "    </tr>\n",
       "    <tr>\n",
       "      <th>1</th>\n",
       "      <td>20030219</td>\n",
       "      <td>act fire witnesses must be aware of defamation</td>\n",
       "    </tr>\n",
       "    <tr>\n",
       "      <th>2</th>\n",
       "      <td>20030219</td>\n",
       "      <td>a g calls for infrastructure protection summit</td>\n",
       "    </tr>\n",
       "    <tr>\n",
       "      <th>3</th>\n",
       "      <td>20030219</td>\n",
       "      <td>air nz staff in aust strike for pay rise</td>\n",
       "    </tr>\n",
       "    <tr>\n",
       "      <th>4</th>\n",
       "      <td>20030219</td>\n",
       "      <td>air nz strike to affect australian travellers</td>\n",
       "    </tr>\n",
       "  </tbody>\n",
       "</table>\n",
       "</div>"
      ],
      "text/plain": [
       "   publish_date                                       headline_text\n",
       "0      20030219  aba decides against community broadcasting licence\n",
       "1      20030219      act fire witnesses must be aware of defamation\n",
       "2      20030219      a g calls for infrastructure protection summit\n",
       "3      20030219            air nz staff in aust strike for pay rise\n",
       "4      20030219       air nz strike to affect australian travellers"
      ]
     },
     "execution_count": 37,
     "metadata": {},
     "output_type": "execute_result"
    }
   ],
   "source": [
    "news.head()"
   ]
  },
  {
   "cell_type": "code",
   "execution_count": 38,
   "metadata": {},
   "outputs": [
    {
     "data": {
      "text/plain": [
       "(1186018, 2)"
      ]
     },
     "execution_count": 38,
     "metadata": {},
     "output_type": "execute_result"
    }
   ],
   "source": [
    "news.shape"
   ]
  },
  {
   "cell_type": "code",
   "execution_count": 39,
   "metadata": {},
   "outputs": [
    {
     "data": {
      "text/plain": [
       "publish_date      int64\n",
       "headline_text    object\n",
       "dtype: object"
      ]
     },
     "execution_count": 39,
     "metadata": {},
     "output_type": "execute_result"
    }
   ],
   "source": [
    "news.dtypes"
   ]
  },
  {
   "cell_type": "markdown",
   "metadata": {},
   "source": [
    "### Change publish_date to datetime format"
   ]
  },
  {
   "cell_type": "code",
   "execution_count": 40,
   "metadata": {},
   "outputs": [],
   "source": [
    "news['publish_date'] = pd.to_datetime(news['publish_date'].astype(str), format='%Y%m%d')"
   ]
  },
  {
   "cell_type": "code",
   "execution_count": 41,
   "metadata": {},
   "outputs": [
    {
     "data": {
      "text/plain": [
       "publish_date     datetime64[ns]\n",
       "headline_text            object\n",
       "dtype: object"
      ]
     },
     "execution_count": 41,
     "metadata": {},
     "output_type": "execute_result"
    }
   ],
   "source": [
    "news.dtypes"
   ]
  },
  {
   "cell_type": "code",
   "execution_count": 42,
   "metadata": {},
   "outputs": [],
   "source": [
    "news_copy = news.copy()"
   ]
  },
  {
   "cell_type": "markdown",
   "metadata": {},
   "source": [
    "### Make new column: financial year categories"
   ]
  },
  {
   "cell_type": "markdown",
   "metadata": {},
   "source": [
    "My second dataset has immigration numbers by Australian financial year, which starts 1 July and ends 30 June, so I will make a column in the same format to make the data comparable.  \n",
    "\n",
    "financial_year:\n",
    "- 2003-07-01: 2003-07-01 to 2004-06-30\n",
    "- 2004-07-01: 2004-07-01 to 2005-06-30\n",
    "- 2005-07-01: 2005-07-01 to 2006-06-30\n",
    "- etc.\n",
    "\n",
    "Note that the 2002-3 and 2019-20 are incomplete and numbers of values should not be compared with other years."
   ]
  },
  {
   "cell_type": "code",
   "execution_count": 43,
   "metadata": {},
   "outputs": [
    {
     "data": {
      "text/plain": [
       "Timestamp('2003-02-19 00:00:00')"
      ]
     },
     "execution_count": 43,
     "metadata": {},
     "output_type": "execute_result"
    }
   ],
   "source": [
    "news_copy['publish_date'].min()"
   ]
  },
  {
   "cell_type": "code",
   "execution_count": 44,
   "metadata": {},
   "outputs": [
    {
     "data": {
      "text/plain": [
       "Timestamp('2019-12-31 00:00:00')"
      ]
     },
     "execution_count": 44,
     "metadata": {},
     "output_type": "execute_result"
    }
   ],
   "source": [
    "news_copy['publish_date'].max()"
   ]
  },
  {
   "cell_type": "markdown",
   "metadata": {},
   "source": [
    "#### 1. Make new empty column"
   ]
  },
  {
   "cell_type": "code",
   "execution_count": 47,
   "metadata": {},
   "outputs": [],
   "source": [
    "news_copy = news_copy.assign(financial_year=pd.NA)"
   ]
  },
  {
   "cell_type": "code",
   "execution_count": 48,
   "metadata": {},
   "outputs": [
    {
     "data": {
      "text/html": [
       "<div>\n",
       "<style scoped>\n",
       "    .dataframe tbody tr th:only-of-type {\n",
       "        vertical-align: middle;\n",
       "    }\n",
       "\n",
       "    .dataframe tbody tr th {\n",
       "        vertical-align: top;\n",
       "    }\n",
       "\n",
       "    .dataframe thead th {\n",
       "        text-align: right;\n",
       "    }\n",
       "</style>\n",
       "<table border=\"1\" class=\"dataframe\">\n",
       "  <thead>\n",
       "    <tr style=\"text-align: right;\">\n",
       "      <th></th>\n",
       "      <th>publish_date</th>\n",
       "      <th>headline_text</th>\n",
       "      <th>financial_year</th>\n",
       "    </tr>\n",
       "  </thead>\n",
       "  <tbody>\n",
       "    <tr>\n",
       "      <th>0</th>\n",
       "      <td>2003-02-19</td>\n",
       "      <td>aba decides against community broadcasting licence</td>\n",
       "      <td>&lt;NA&gt;</td>\n",
       "    </tr>\n",
       "    <tr>\n",
       "      <th>1</th>\n",
       "      <td>2003-02-19</td>\n",
       "      <td>act fire witnesses must be aware of defamation</td>\n",
       "      <td>&lt;NA&gt;</td>\n",
       "    </tr>\n",
       "    <tr>\n",
       "      <th>2</th>\n",
       "      <td>2003-02-19</td>\n",
       "      <td>a g calls for infrastructure protection summit</td>\n",
       "      <td>&lt;NA&gt;</td>\n",
       "    </tr>\n",
       "    <tr>\n",
       "      <th>3</th>\n",
       "      <td>2003-02-19</td>\n",
       "      <td>air nz staff in aust strike for pay rise</td>\n",
       "      <td>&lt;NA&gt;</td>\n",
       "    </tr>\n",
       "    <tr>\n",
       "      <th>4</th>\n",
       "      <td>2003-02-19</td>\n",
       "      <td>air nz strike to affect australian travellers</td>\n",
       "      <td>&lt;NA&gt;</td>\n",
       "    </tr>\n",
       "    <tr>\n",
       "      <th>...</th>\n",
       "      <td>...</td>\n",
       "      <td>...</td>\n",
       "      <td>...</td>\n",
       "    </tr>\n",
       "    <tr>\n",
       "      <th>1186013</th>\n",
       "      <td>2019-12-31</td>\n",
       "      <td>vision of flames approaching corryong in victoria</td>\n",
       "      <td>&lt;NA&gt;</td>\n",
       "    </tr>\n",
       "    <tr>\n",
       "      <th>1186014</th>\n",
       "      <td>2019-12-31</td>\n",
       "      <td>wa police and government backflip on drug amnesty bins</td>\n",
       "      <td>&lt;NA&gt;</td>\n",
       "    </tr>\n",
       "    <tr>\n",
       "      <th>1186015</th>\n",
       "      <td>2019-12-31</td>\n",
       "      <td>we have fears for their safety: victorian premier</td>\n",
       "      <td>&lt;NA&gt;</td>\n",
       "    </tr>\n",
       "    <tr>\n",
       "      <th>1186016</th>\n",
       "      <td>2019-12-31</td>\n",
       "      <td>when do the 20s start</td>\n",
       "      <td>&lt;NA&gt;</td>\n",
       "    </tr>\n",
       "    <tr>\n",
       "      <th>1186017</th>\n",
       "      <td>2019-12-31</td>\n",
       "      <td>yarraville shooting woman dead man critically injured</td>\n",
       "      <td>&lt;NA&gt;</td>\n",
       "    </tr>\n",
       "  </tbody>\n",
       "</table>\n",
       "<p>1186018 rows × 3 columns</p>\n",
       "</div>"
      ],
      "text/plain": [
       "        publish_date                                           headline_text  \\\n",
       "0         2003-02-19      aba decides against community broadcasting licence   \n",
       "1         2003-02-19          act fire witnesses must be aware of defamation   \n",
       "2         2003-02-19          a g calls for infrastructure protection summit   \n",
       "3         2003-02-19                air nz staff in aust strike for pay rise   \n",
       "4         2003-02-19           air nz strike to affect australian travellers   \n",
       "...              ...                                                     ...   \n",
       "1186013   2019-12-31       vision of flames approaching corryong in victoria   \n",
       "1186014   2019-12-31  wa police and government backflip on drug amnesty bins   \n",
       "1186015   2019-12-31       we have fears for their safety: victorian premier   \n",
       "1186016   2019-12-31                                   when do the 20s start   \n",
       "1186017   2019-12-31   yarraville shooting woman dead man critically injured   \n",
       "\n",
       "        financial_year  \n",
       "0                 <NA>  \n",
       "1                 <NA>  \n",
       "2                 <NA>  \n",
       "3                 <NA>  \n",
       "4                 <NA>  \n",
       "...                ...  \n",
       "1186013           <NA>  \n",
       "1186014           <NA>  \n",
       "1186015           <NA>  \n",
       "1186016           <NA>  \n",
       "1186017           <NA>  \n",
       "\n",
       "[1186018 rows x 3 columns]"
      ]
     },
     "execution_count": 48,
     "metadata": {},
     "output_type": "execute_result"
    }
   ],
   "source": [
    "news_copy"
   ]
  },
  {
   "cell_type": "markdown",
   "metadata": {},
   "source": [
    "#### 2. add values to new column"
   ]
  },
  {
   "cell_type": "code",
   "execution_count": 49,
   "metadata": {},
   "outputs": [],
   "source": [
    "news_copy.loc[(news_copy[\"publish_date\"]\n",
    "               .between(pd.to_datetime(\"2002-07-01\"), \n",
    "                        pd.to_datetime(\"2003-06-30\")), 'financial_year')] = '2002-07-01'\n",
    "\n",
    "news_copy.loc[(news_copy[\"publish_date\"]\n",
    "               .between(pd.to_datetime(\"2003-07-01\"), \n",
    "                        pd.to_datetime(\"2004-06-30\")), 'financial_year')] = '2003-07-01'\n",
    "\n",
    "news_copy.loc[(news_copy[\"publish_date\"]\n",
    "               .between(pd.to_datetime(\"2004-07-01\"), \n",
    "                        pd.to_datetime(\"2005-06-30\")), 'financial_year')] = '2004-07-01'\n",
    "\n",
    "news_copy.loc[(news_copy[\"publish_date\"]\n",
    "               .between(pd.to_datetime(\"2005-07-01\"), \n",
    "                        pd.to_datetime(\"2006-06-30\")), 'financial_year')] = '2005-07-01'\n",
    "\n",
    "news_copy.loc[(news_copy[\"publish_date\"]\n",
    "               .between(pd.to_datetime(\"2006-07-01\"), \n",
    "                        pd.to_datetime(\"2007-06-30\")), 'financial_year')] = '2006-07-01'\n",
    "\n",
    "news_copy.loc[(news_copy[\"publish_date\"]\n",
    "               .between(pd.to_datetime(\"2007-07-01\"), \n",
    "                        pd.to_datetime(\"2008-06-30\")), 'financial_year')] = '2007-07-01'\n",
    "\n",
    "news_copy.loc[(news_copy[\"publish_date\"]\n",
    "               .between(pd.to_datetime(\"2008-07-01\"), \n",
    "                        pd.to_datetime(\"2009-06-30\")), 'financial_year')] = '2008-07-01'\n",
    "\n",
    "news_copy.loc[(news_copy[\"publish_date\"]\n",
    "               .between(pd.to_datetime(\"2009-07-01\"), \n",
    "                        pd.to_datetime(\"2010-06-30\")), 'financial_year')] = '2009-07-01'\n",
    "\n"
   ]
  },
  {
   "cell_type": "code",
   "execution_count": 50,
   "metadata": {},
   "outputs": [],
   "source": [
    "news_copy.loc[(news_copy[\"publish_date\"]\n",
    "               .between(pd.to_datetime(\"2010-07-01\"), \n",
    "                        pd.to_datetime(\"2011-06-30\")), 'financial_year')] = '2010-07-01'\n",
    "\n",
    "news_copy.loc[(news_copy[\"publish_date\"]\n",
    "               .between(pd.to_datetime(\"2011-07-01\"), \n",
    "                        pd.to_datetime(\"2012-06-30\")), 'financial_year')] = '2011-07-01'\n",
    "\n",
    "news_copy.loc[(news_copy[\"publish_date\"]\n",
    "               .between(pd.to_datetime(\"2012-07-01\"), \n",
    "                        pd.to_datetime(\"2013-06-30\")), 'financial_year')] = '2012-07-01'\n",
    "\n",
    "news_copy.loc[(news_copy[\"publish_date\"]\n",
    "               .between(pd.to_datetime(\"2013-07-01\"), \n",
    "                        pd.to_datetime(\"2014-06-30\")), 'financial_year')] = '2013-07-01'\n",
    "\n",
    "news_copy.loc[(news_copy[\"publish_date\"]\n",
    "               .between(pd.to_datetime(\"2014-07-01\"), \n",
    "                        pd.to_datetime(\"2015-06-30\")), 'financial_year')] = '2014-07-01'\n",
    "\n",
    "news_copy.loc[(news_copy[\"publish_date\"]\n",
    "               .between(pd.to_datetime(\"2015-07-01\"), \n",
    "                        pd.to_datetime(\"2016-06-30\")), 'financial_year')] = '2015-07-01'\n",
    "\n",
    "news_copy.loc[(news_copy[\"publish_date\"]\n",
    "               .between(pd.to_datetime(\"2016-07-01\"), \n",
    "                        pd.to_datetime(\"2017-06-30\")), 'financial_year')] = '2016-07-01'\n",
    "\n",
    "news_copy.loc[(news_copy[\"publish_date\"]\n",
    "               .between(pd.to_datetime(\"2017-07-01\"), \n",
    "                        pd.to_datetime(\"2018-06-30\")), 'financial_year')] = '2017-07-01'\n",
    "\n",
    "news_copy.loc[(news_copy[\"publish_date\"]\n",
    "               .between(pd.to_datetime(\"2018-07-01\"), \n",
    "                        pd.to_datetime(\"2019-06-30\")), 'financial_year')] = '2018-07-01'\n",
    "\n",
    "news_copy.loc[(news_copy[\"publish_date\"]\n",
    "               .between(pd.to_datetime(\"2019-07-01\"), \n",
    "                        pd.to_datetime(\"2020-06-30\")), 'financial_year')] = '2019-07-01'"
   ]
  },
  {
   "cell_type": "code",
   "execution_count": 51,
   "metadata": {},
   "outputs": [
    {
     "data": {
      "text/plain": [
       "2012-07-01    93574\n",
       "2013-07-01    86497\n",
       "2011-07-01    81546\n",
       "2007-07-01    79743\n",
       "2008-07-01    78062\n",
       "2010-07-01    76406\n",
       "2014-07-01    76302\n",
       "2009-07-01    75475\n",
       "2005-07-01    73499\n",
       "2015-07-01    73027\n",
       "2004-07-01    72856\n",
       "2003-07-01    72753\n",
       "2006-07-01    67690\n",
       "2016-07-01    53234\n",
       "2017-07-01    44629\n",
       "2018-07-01    36344\n",
       "2002-07-01    27436\n",
       "2019-07-01    16945\n",
       "Name: financial_year, dtype: int64"
      ]
     },
     "execution_count": 51,
     "metadata": {},
     "output_type": "execute_result"
    }
   ],
   "source": [
    "news_copy['financial_year'].value_counts()"
   ]
  },
  {
   "cell_type": "code",
   "execution_count": 52,
   "metadata": {},
   "outputs": [
    {
     "data": {
      "text/plain": [
       "publish_date      datetime64[ns]\n",
       "headline_text             object\n",
       "financial_year            object\n",
       "dtype: object"
      ]
     },
     "execution_count": 52,
     "metadata": {},
     "output_type": "execute_result"
    }
   ],
   "source": [
    "news_copy.dtypes"
   ]
  },
  {
   "cell_type": "code",
   "execution_count": 53,
   "metadata": {},
   "outputs": [],
   "source": [
    "news_copy['financial_year'] = pd.to_datetime(news_copy['financial_year'])\n",
    "                                             #, format='%Y%m%d')"
   ]
  },
  {
   "cell_type": "code",
   "execution_count": 54,
   "metadata": {},
   "outputs": [
    {
     "data": {
      "text/plain": [
       "publish_date      datetime64[ns]\n",
       "headline_text             object\n",
       "financial_year    datetime64[ns]\n",
       "dtype: object"
      ]
     },
     "execution_count": 54,
     "metadata": {},
     "output_type": "execute_result"
    }
   ],
   "source": [
    "news_copy.dtypes"
   ]
  },
  {
   "cell_type": "code",
   "execution_count": 55,
   "metadata": {},
   "outputs": [
    {
     "data": {
      "text/html": [
       "<div>\n",
       "<style scoped>\n",
       "    .dataframe tbody tr th:only-of-type {\n",
       "        vertical-align: middle;\n",
       "    }\n",
       "\n",
       "    .dataframe tbody tr th {\n",
       "        vertical-align: top;\n",
       "    }\n",
       "\n",
       "    .dataframe thead th {\n",
       "        text-align: right;\n",
       "    }\n",
       "</style>\n",
       "<table border=\"1\" class=\"dataframe\">\n",
       "  <thead>\n",
       "    <tr style=\"text-align: right;\">\n",
       "      <th></th>\n",
       "      <th>publish_date</th>\n",
       "      <th>headline_text</th>\n",
       "      <th>financial_year</th>\n",
       "    </tr>\n",
       "  </thead>\n",
       "  <tbody>\n",
       "    <tr>\n",
       "      <th>0</th>\n",
       "      <td>2003-02-19</td>\n",
       "      <td>aba decides against community broadcasting licence</td>\n",
       "      <td>2002-07-01</td>\n",
       "    </tr>\n",
       "    <tr>\n",
       "      <th>1</th>\n",
       "      <td>2003-02-19</td>\n",
       "      <td>act fire witnesses must be aware of defamation</td>\n",
       "      <td>2002-07-01</td>\n",
       "    </tr>\n",
       "    <tr>\n",
       "      <th>2</th>\n",
       "      <td>2003-02-19</td>\n",
       "      <td>a g calls for infrastructure protection summit</td>\n",
       "      <td>2002-07-01</td>\n",
       "    </tr>\n",
       "    <tr>\n",
       "      <th>3</th>\n",
       "      <td>2003-02-19</td>\n",
       "      <td>air nz staff in aust strike for pay rise</td>\n",
       "      <td>2002-07-01</td>\n",
       "    </tr>\n",
       "    <tr>\n",
       "      <th>4</th>\n",
       "      <td>2003-02-19</td>\n",
       "      <td>air nz strike to affect australian travellers</td>\n",
       "      <td>2002-07-01</td>\n",
       "    </tr>\n",
       "    <tr>\n",
       "      <th>...</th>\n",
       "      <td>...</td>\n",
       "      <td>...</td>\n",
       "      <td>...</td>\n",
       "    </tr>\n",
       "    <tr>\n",
       "      <th>1186013</th>\n",
       "      <td>2019-12-31</td>\n",
       "      <td>vision of flames approaching corryong in victoria</td>\n",
       "      <td>2019-07-01</td>\n",
       "    </tr>\n",
       "    <tr>\n",
       "      <th>1186014</th>\n",
       "      <td>2019-12-31</td>\n",
       "      <td>wa police and government backflip on drug amnesty bins</td>\n",
       "      <td>2019-07-01</td>\n",
       "    </tr>\n",
       "    <tr>\n",
       "      <th>1186015</th>\n",
       "      <td>2019-12-31</td>\n",
       "      <td>we have fears for their safety: victorian premier</td>\n",
       "      <td>2019-07-01</td>\n",
       "    </tr>\n",
       "    <tr>\n",
       "      <th>1186016</th>\n",
       "      <td>2019-12-31</td>\n",
       "      <td>when do the 20s start</td>\n",
       "      <td>2019-07-01</td>\n",
       "    </tr>\n",
       "    <tr>\n",
       "      <th>1186017</th>\n",
       "      <td>2019-12-31</td>\n",
       "      <td>yarraville shooting woman dead man critically injured</td>\n",
       "      <td>2019-07-01</td>\n",
       "    </tr>\n",
       "  </tbody>\n",
       "</table>\n",
       "<p>1186018 rows × 3 columns</p>\n",
       "</div>"
      ],
      "text/plain": [
       "        publish_date                                           headline_text  \\\n",
       "0         2003-02-19      aba decides against community broadcasting licence   \n",
       "1         2003-02-19          act fire witnesses must be aware of defamation   \n",
       "2         2003-02-19          a g calls for infrastructure protection summit   \n",
       "3         2003-02-19                air nz staff in aust strike for pay rise   \n",
       "4         2003-02-19           air nz strike to affect australian travellers   \n",
       "...              ...                                                     ...   \n",
       "1186013   2019-12-31       vision of flames approaching corryong in victoria   \n",
       "1186014   2019-12-31  wa police and government backflip on drug amnesty bins   \n",
       "1186015   2019-12-31       we have fears for their safety: victorian premier   \n",
       "1186016   2019-12-31                                   when do the 20s start   \n",
       "1186017   2019-12-31   yarraville shooting woman dead man critically injured   \n",
       "\n",
       "        financial_year  \n",
       "0           2002-07-01  \n",
       "1           2002-07-01  \n",
       "2           2002-07-01  \n",
       "3           2002-07-01  \n",
       "4           2002-07-01  \n",
       "...                ...  \n",
       "1186013     2019-07-01  \n",
       "1186014     2019-07-01  \n",
       "1186015     2019-07-01  \n",
       "1186016     2019-07-01  \n",
       "1186017     2019-07-01  \n",
       "\n",
       "[1186018 rows x 3 columns]"
      ]
     },
     "execution_count": 55,
     "metadata": {},
     "output_type": "execute_result"
    }
   ],
   "source": [
    "news_copy"
   ]
  },
  {
   "cell_type": "code",
   "execution_count": 56,
   "metadata": {},
   "outputs": [],
   "source": [
    "news = news_copy"
   ]
  },
  {
   "cell_type": "code",
   "execution_count": 57,
   "metadata": {},
   "outputs": [],
   "source": [
    "news_copy = news.copy()"
   ]
  },
  {
   "cell_type": "markdown",
   "metadata": {},
   "source": [
    "### Check for missing values"
   ]
  },
  {
   "cell_type": "code",
   "execution_count": 58,
   "metadata": {},
   "outputs": [
    {
     "data": {
      "text/plain": [
       "publish_date      0\n",
       "headline_text     0\n",
       "financial_year    0\n",
       "dtype: int64"
      ]
     },
     "execution_count": 58,
     "metadata": {},
     "output_type": "execute_result"
    }
   ],
   "source": [
    "news_copy.isna().sum()"
   ]
  },
  {
   "cell_type": "code",
   "execution_count": 59,
   "metadata": {},
   "outputs": [
    {
     "data": {
      "text/html": [
       "<div>\n",
       "<style scoped>\n",
       "    .dataframe tbody tr th:only-of-type {\n",
       "        vertical-align: middle;\n",
       "    }\n",
       "\n",
       "    .dataframe tbody tr th {\n",
       "        vertical-align: top;\n",
       "    }\n",
       "\n",
       "    .dataframe thead th {\n",
       "        text-align: right;\n",
       "    }\n",
       "</style>\n",
       "<table border=\"1\" class=\"dataframe\">\n",
       "  <thead>\n",
       "    <tr style=\"text-align: right;\">\n",
       "      <th></th>\n",
       "      <th>publish_date</th>\n",
       "      <th>headline_text</th>\n",
       "      <th>financial_year</th>\n",
       "    </tr>\n",
       "  </thead>\n",
       "  <tbody>\n",
       "  </tbody>\n",
       "</table>\n",
       "</div>"
      ],
      "text/plain": [
       "Empty DataFrame\n",
       "Columns: [publish_date, headline_text, financial_year]\n",
       "Index: []"
      ]
     },
     "execution_count": 59,
     "metadata": {},
     "output_type": "execute_result"
    }
   ],
   "source": [
    "news_copy.loc[(news_copy['headline_text'] == ' ') \n",
    "        | (news_copy['headline_text'] == '')]"
   ]
  },
  {
   "cell_type": "code",
   "execution_count": 60,
   "metadata": {},
   "outputs": [],
   "source": [
    "news_copy = news_copy[~(news_copy['headline_text'] == ' ')]\n"
   ]
  },
  {
   "cell_type": "code",
   "execution_count": 61,
   "metadata": {},
   "outputs": [],
   "source": [
    "news_copy = news_copy[~(news_copy['headline_text'] == '')]"
   ]
  },
  {
   "cell_type": "code",
   "execution_count": 62,
   "metadata": {},
   "outputs": [
    {
     "data": {
      "text/html": [
       "<div>\n",
       "<style scoped>\n",
       "    .dataframe tbody tr th:only-of-type {\n",
       "        vertical-align: middle;\n",
       "    }\n",
       "\n",
       "    .dataframe tbody tr th {\n",
       "        vertical-align: top;\n",
       "    }\n",
       "\n",
       "    .dataframe thead th {\n",
       "        text-align: right;\n",
       "    }\n",
       "</style>\n",
       "<table border=\"1\" class=\"dataframe\">\n",
       "  <thead>\n",
       "    <tr style=\"text-align: right;\">\n",
       "      <th></th>\n",
       "      <th>publish_date</th>\n",
       "      <th>headline_text</th>\n",
       "      <th>financial_year</th>\n",
       "    </tr>\n",
       "  </thead>\n",
       "  <tbody>\n",
       "  </tbody>\n",
       "</table>\n",
       "</div>"
      ],
      "text/plain": [
       "Empty DataFrame\n",
       "Columns: [publish_date, headline_text, financial_year]\n",
       "Index: []"
      ]
     },
     "execution_count": 62,
     "metadata": {},
     "output_type": "execute_result"
    }
   ],
   "source": [
    "news_copy[(news_copy['headline_text'] == '')]"
   ]
  },
  {
   "cell_type": "code",
   "execution_count": 63,
   "metadata": {},
   "outputs": [
    {
     "data": {
      "text/html": [
       "<div>\n",
       "<style scoped>\n",
       "    .dataframe tbody tr th:only-of-type {\n",
       "        vertical-align: middle;\n",
       "    }\n",
       "\n",
       "    .dataframe tbody tr th {\n",
       "        vertical-align: top;\n",
       "    }\n",
       "\n",
       "    .dataframe thead th {\n",
       "        text-align: right;\n",
       "    }\n",
       "</style>\n",
       "<table border=\"1\" class=\"dataframe\">\n",
       "  <thead>\n",
       "    <tr style=\"text-align: right;\">\n",
       "      <th></th>\n",
       "      <th>publish_date</th>\n",
       "      <th>headline_text</th>\n",
       "      <th>financial_year</th>\n",
       "    </tr>\n",
       "  </thead>\n",
       "  <tbody>\n",
       "  </tbody>\n",
       "</table>\n",
       "</div>"
      ],
      "text/plain": [
       "Empty DataFrame\n",
       "Columns: [publish_date, headline_text, financial_year]\n",
       "Index: []"
      ]
     },
     "execution_count": 63,
     "metadata": {},
     "output_type": "execute_result"
    }
   ],
   "source": [
    "news_copy.loc[(news_copy['headline_text'] == ' ') \n",
    "        | (news_copy['headline_text'] == '')]"
   ]
  },
  {
   "cell_type": "code",
   "execution_count": 66,
   "metadata": {},
   "outputs": [],
   "source": [
    "news = news_copy"
   ]
  },
  {
   "cell_type": "code",
   "execution_count": 67,
   "metadata": {},
   "outputs": [],
   "source": [
    "news_copy = news.copy()"
   ]
  },
  {
   "cell_type": "markdown",
   "metadata": {},
   "source": [
    "## Text pre-processing"
   ]
  },
  {
   "cell_type": "markdown",
   "metadata": {},
   "source": [
    "The text is already in lower case, with no square brackets or quotes. Numbers and punctuation need to be removed prior to lemmatization and stemming. "
   ]
  },
  {
   "cell_type": "code",
   "execution_count": 68,
   "metadata": {},
   "outputs": [
    {
     "data": {
      "text/html": [
       "<div>\n",
       "<style scoped>\n",
       "    .dataframe tbody tr th:only-of-type {\n",
       "        vertical-align: middle;\n",
       "    }\n",
       "\n",
       "    .dataframe tbody tr th {\n",
       "        vertical-align: top;\n",
       "    }\n",
       "\n",
       "    .dataframe thead th {\n",
       "        text-align: right;\n",
       "    }\n",
       "</style>\n",
       "<table border=\"1\" class=\"dataframe\">\n",
       "  <thead>\n",
       "    <tr style=\"text-align: right;\">\n",
       "      <th></th>\n",
       "      <th>publish_date</th>\n",
       "      <th>headline_text</th>\n",
       "      <th>financial_year</th>\n",
       "    </tr>\n",
       "  </thead>\n",
       "  <tbody>\n",
       "    <tr>\n",
       "      <th>1186013</th>\n",
       "      <td>2019-12-31</td>\n",
       "      <td>vision of flames approaching corryong in victoria</td>\n",
       "      <td>2019-07-01</td>\n",
       "    </tr>\n",
       "    <tr>\n",
       "      <th>1186014</th>\n",
       "      <td>2019-12-31</td>\n",
       "      <td>wa police and government backflip on drug amnesty bins</td>\n",
       "      <td>2019-07-01</td>\n",
       "    </tr>\n",
       "    <tr>\n",
       "      <th>1186015</th>\n",
       "      <td>2019-12-31</td>\n",
       "      <td>we have fears for their safety: victorian premier</td>\n",
       "      <td>2019-07-01</td>\n",
       "    </tr>\n",
       "    <tr>\n",
       "      <th>1186016</th>\n",
       "      <td>2019-12-31</td>\n",
       "      <td>when do the 20s start</td>\n",
       "      <td>2019-07-01</td>\n",
       "    </tr>\n",
       "    <tr>\n",
       "      <th>1186017</th>\n",
       "      <td>2019-12-31</td>\n",
       "      <td>yarraville shooting woman dead man critically injured</td>\n",
       "      <td>2019-07-01</td>\n",
       "    </tr>\n",
       "  </tbody>\n",
       "</table>\n",
       "</div>"
      ],
      "text/plain": [
       "        publish_date                                           headline_text  \\\n",
       "1186013   2019-12-31       vision of flames approaching corryong in victoria   \n",
       "1186014   2019-12-31  wa police and government backflip on drug amnesty bins   \n",
       "1186015   2019-12-31       we have fears for their safety: victorian premier   \n",
       "1186016   2019-12-31                                   when do the 20s start   \n",
       "1186017   2019-12-31   yarraville shooting woman dead man critically injured   \n",
       "\n",
       "        financial_year  \n",
       "1186013     2019-07-01  \n",
       "1186014     2019-07-01  \n",
       "1186015     2019-07-01  \n",
       "1186016     2019-07-01  \n",
       "1186017     2019-07-01  "
      ]
     },
     "execution_count": 68,
     "metadata": {},
     "output_type": "execute_result"
    }
   ],
   "source": [
    "news_copy.tail()\n",
    "# numbers: 2019, 29, 4000\n",
    "# puntuation: ; : $"
   ]
  },
  {
   "cell_type": "code",
   "execution_count": 69,
   "metadata": {},
   "outputs": [
    {
     "data": {
      "text/html": [
       "<div>\n",
       "<style scoped>\n",
       "    .dataframe tbody tr th:only-of-type {\n",
       "        vertical-align: middle;\n",
       "    }\n",
       "\n",
       "    .dataframe tbody tr th {\n",
       "        vertical-align: top;\n",
       "    }\n",
       "\n",
       "    .dataframe thead th {\n",
       "        text-align: right;\n",
       "    }\n",
       "</style>\n",
       "<table border=\"1\" class=\"dataframe\">\n",
       "  <thead>\n",
       "    <tr style=\"text-align: right;\">\n",
       "      <th></th>\n",
       "      <th>publish_date</th>\n",
       "      <th>headline_text</th>\n",
       "      <th>financial_year</th>\n",
       "    </tr>\n",
       "  </thead>\n",
       "  <tbody>\n",
       "    <tr>\n",
       "      <th>26046</th>\n",
       "      <td>2003-06-24</td>\n",
       "      <td>egon schiele painting sells for record usd 20.93 million</td>\n",
       "      <td>2002-07-01</td>\n",
       "    </tr>\n",
       "    <tr>\n",
       "      <th>94005</th>\n",
       "      <td>2004-06-01</td>\n",
       "      <td>greene races to 100 meters in 9.78 seconds</td>\n",
       "      <td>2003-07-01</td>\n",
       "    </tr>\n",
       "    <tr>\n",
       "      <th>170396</th>\n",
       "      <td>2005-06-17</td>\n",
       "      <td>us current account deficit surges to record usd 195.1 billion</td>\n",
       "      <td>2004-07-01</td>\n",
       "    </tr>\n",
       "    <tr>\n",
       "      <th>181062</th>\n",
       "      <td>2005-08-09</td>\n",
       "      <td>primary health care nets 27.9 million profit</td>\n",
       "      <td>2005-07-01</td>\n",
       "    </tr>\n",
       "    <tr>\n",
       "      <th>186139</th>\n",
       "      <td>2005-09-03</td>\n",
       "      <td>us congress passes usd 10.5 billion hurricane aid</td>\n",
       "      <td>2005-07-01</td>\n",
       "    </tr>\n",
       "    <tr>\n",
       "      <th>...</th>\n",
       "      <td>...</td>\n",
       "      <td>...</td>\n",
       "      <td>...</td>\n",
       "    </tr>\n",
       "    <tr>\n",
       "      <th>1185701</th>\n",
       "      <td>2019-12-26</td>\n",
       "      <td>as facebook pivots to private; family group chats fire up</td>\n",
       "      <td>2019-07-01</td>\n",
       "    </tr>\n",
       "    <tr>\n",
       "      <th>1185939</th>\n",
       "      <td>2019-12-30</td>\n",
       "      <td>us strikes in iraq; syria target iranian backed shiite group</td>\n",
       "      <td>2019-07-01</td>\n",
       "    </tr>\n",
       "    <tr>\n",
       "      <th>1185976</th>\n",
       "      <td>2019-12-31</td>\n",
       "      <td>house saved; shed gone; everyones alive: daniel marshall</td>\n",
       "      <td>2019-07-01</td>\n",
       "    </tr>\n",
       "    <tr>\n",
       "      <th>1186004</th>\n",
       "      <td>2019-12-31</td>\n",
       "      <td>the fire is engulfing the house: tracey corbin</td>\n",
       "      <td>2019-07-01</td>\n",
       "    </tr>\n",
       "    <tr>\n",
       "      <th>1186015</th>\n",
       "      <td>2019-12-31</td>\n",
       "      <td>we have fears for their safety: victorian premier</td>\n",
       "      <td>2019-07-01</td>\n",
       "    </tr>\n",
       "  </tbody>\n",
       "</table>\n",
       "<p>23035 rows × 3 columns</p>\n",
       "</div>"
      ],
      "text/plain": [
       "        publish_date  \\\n",
       "26046     2003-06-24   \n",
       "94005     2004-06-01   \n",
       "170396    2005-06-17   \n",
       "181062    2005-08-09   \n",
       "186139    2005-09-03   \n",
       "...              ...   \n",
       "1185701   2019-12-26   \n",
       "1185939   2019-12-30   \n",
       "1185976   2019-12-31   \n",
       "1186004   2019-12-31   \n",
       "1186015   2019-12-31   \n",
       "\n",
       "                                                         headline_text  \\\n",
       "26046         egon schiele painting sells for record usd 20.93 million   \n",
       "94005                       greene races to 100 meters in 9.78 seconds   \n",
       "170396   us current account deficit surges to record usd 195.1 billion   \n",
       "181062                    primary health care nets 27.9 million profit   \n",
       "186139               us congress passes usd 10.5 billion hurricane aid   \n",
       "...                                                                ...   \n",
       "1185701      as facebook pivots to private; family group chats fire up   \n",
       "1185939   us strikes in iraq; syria target iranian backed shiite group   \n",
       "1185976       house saved; shed gone; everyones alive: daniel marshall   \n",
       "1186004                 the fire is engulfing the house: tracey corbin   \n",
       "1186015              we have fears for their safety: victorian premier   \n",
       "\n",
       "        financial_year  \n",
       "26046       2002-07-01  \n",
       "94005       2003-07-01  \n",
       "170396      2004-07-01  \n",
       "181062      2005-07-01  \n",
       "186139      2005-07-01  \n",
       "...                ...  \n",
       "1185701     2019-07-01  \n",
       "1185939     2019-07-01  \n",
       "1185976     2019-07-01  \n",
       "1186004     2019-07-01  \n",
       "1186015     2019-07-01  \n",
       "\n",
       "[23035 rows x 3 columns]"
      ]
     },
     "execution_count": 69,
     "metadata": {},
     "output_type": "execute_result"
    }
   ],
   "source": [
    "news_copy[news_copy[\"headline_text\"].str.contains('[%s]' % re.escape(string.punctuation))]"
   ]
  },
  {
   "cell_type": "code",
   "execution_count": 70,
   "metadata": {},
   "outputs": [
    {
     "data": {
      "text/html": [
       "<div>\n",
       "<style scoped>\n",
       "    .dataframe tbody tr th:only-of-type {\n",
       "        vertical-align: middle;\n",
       "    }\n",
       "\n",
       "    .dataframe tbody tr th {\n",
       "        vertical-align: top;\n",
       "    }\n",
       "\n",
       "    .dataframe thead th {\n",
       "        text-align: right;\n",
       "    }\n",
       "</style>\n",
       "<table border=\"1\" class=\"dataframe\">\n",
       "  <thead>\n",
       "    <tr style=\"text-align: right;\">\n",
       "      <th></th>\n",
       "      <th>publish_date</th>\n",
       "      <th>headline_text</th>\n",
       "      <th>financial_year</th>\n",
       "    </tr>\n",
       "  </thead>\n",
       "  <tbody>\n",
       "    <tr>\n",
       "      <th>10</th>\n",
       "      <td>2003-02-19</td>\n",
       "      <td>australia to contribute 10 million in aid to iraq</td>\n",
       "      <td>2002-07-01</td>\n",
       "    </tr>\n",
       "    <tr>\n",
       "      <th>38</th>\n",
       "      <td>2003-02-19</td>\n",
       "      <td>de villiers to learn fate on march 5</td>\n",
       "      <td>2002-07-01</td>\n",
       "    </tr>\n",
       "    <tr>\n",
       "      <th>42</th>\n",
       "      <td>2003-02-19</td>\n",
       "      <td>dog mauls 18 month old toddler in nsw</td>\n",
       "      <td>2002-07-01</td>\n",
       "    </tr>\n",
       "    <tr>\n",
       "      <th>56</th>\n",
       "      <td>2003-02-19</td>\n",
       "      <td>german court to give verdict on sept 11 accused</td>\n",
       "      <td>2002-07-01</td>\n",
       "    </tr>\n",
       "    <tr>\n",
       "      <th>84</th>\n",
       "      <td>2003-02-19</td>\n",
       "      <td>korean subway fire 314 still missing</td>\n",
       "      <td>2002-07-01</td>\n",
       "    </tr>\n",
       "    <tr>\n",
       "      <th>...</th>\n",
       "      <td>...</td>\n",
       "      <td>...</td>\n",
       "      <td>...</td>\n",
       "    </tr>\n",
       "    <tr>\n",
       "      <th>1186002</th>\n",
       "      <td>2019-12-31</td>\n",
       "      <td>tasmania new years eve guide 2019</td>\n",
       "      <td>2019-07-01</td>\n",
       "    </tr>\n",
       "    <tr>\n",
       "      <th>1186005</th>\n",
       "      <td>2019-12-31</td>\n",
       "      <td>these are the top stories of 2019 as decided by abc news readers</td>\n",
       "      <td>2019-07-01</td>\n",
       "    </tr>\n",
       "    <tr>\n",
       "      <th>1186006</th>\n",
       "      <td>2019-12-31</td>\n",
       "      <td>the year that was 2019 highlights memorable popular stories</td>\n",
       "      <td>2019-07-01</td>\n",
       "    </tr>\n",
       "    <tr>\n",
       "      <th>1186009</th>\n",
       "      <td>2019-12-31</td>\n",
       "      <td>up to 4000 people are seeking refuge on a beach in mallacoota</td>\n",
       "      <td>2019-07-01</td>\n",
       "    </tr>\n",
       "    <tr>\n",
       "      <th>1186016</th>\n",
       "      <td>2019-12-31</td>\n",
       "      <td>when do the 20s start</td>\n",
       "      <td>2019-07-01</td>\n",
       "    </tr>\n",
       "  </tbody>\n",
       "</table>\n",
       "<p>83021 rows × 3 columns</p>\n",
       "</div>"
      ],
      "text/plain": [
       "        publish_date  \\\n",
       "10        2003-02-19   \n",
       "38        2003-02-19   \n",
       "42        2003-02-19   \n",
       "56        2003-02-19   \n",
       "84        2003-02-19   \n",
       "...              ...   \n",
       "1186002   2019-12-31   \n",
       "1186005   2019-12-31   \n",
       "1186006   2019-12-31   \n",
       "1186009   2019-12-31   \n",
       "1186016   2019-12-31   \n",
       "\n",
       "                                                            headline_text  \\\n",
       "10                      australia to contribute 10 million in aid to iraq   \n",
       "38                                   de villiers to learn fate on march 5   \n",
       "42                                  dog mauls 18 month old toddler in nsw   \n",
       "56                        german court to give verdict on sept 11 accused   \n",
       "84                                   korean subway fire 314 still missing   \n",
       "...                                                                   ...   \n",
       "1186002                                 tasmania new years eve guide 2019   \n",
       "1186005  these are the top stories of 2019 as decided by abc news readers   \n",
       "1186006       the year that was 2019 highlights memorable popular stories   \n",
       "1186009     up to 4000 people are seeking refuge on a beach in mallacoota   \n",
       "1186016                                             when do the 20s start   \n",
       "\n",
       "        financial_year  \n",
       "10          2002-07-01  \n",
       "38          2002-07-01  \n",
       "42          2002-07-01  \n",
       "56          2002-07-01  \n",
       "84          2002-07-01  \n",
       "...                ...  \n",
       "1186002     2019-07-01  \n",
       "1186005     2019-07-01  \n",
       "1186006     2019-07-01  \n",
       "1186009     2019-07-01  \n",
       "1186016     2019-07-01  \n",
       "\n",
       "[83021 rows x 3 columns]"
      ]
     },
     "execution_count": 70,
     "metadata": {},
     "output_type": "execute_result"
    }
   ],
   "source": [
    "news_copy[news_copy[\"headline_text\"].str.contains('\\w*\\d\\w*')]"
   ]
  },
  {
   "cell_type": "code",
   "execution_count": 71,
   "metadata": {},
   "outputs": [
    {
     "data": {
      "text/html": [
       "<div>\n",
       "<style scoped>\n",
       "    .dataframe tbody tr th:only-of-type {\n",
       "        vertical-align: middle;\n",
       "    }\n",
       "\n",
       "    .dataframe tbody tr th {\n",
       "        vertical-align: top;\n",
       "    }\n",
       "\n",
       "    .dataframe thead th {\n",
       "        text-align: right;\n",
       "    }\n",
       "</style>\n",
       "<table border=\"1\" class=\"dataframe\">\n",
       "  <thead>\n",
       "    <tr style=\"text-align: right;\">\n",
       "      <th></th>\n",
       "      <th>publish_date</th>\n",
       "      <th>headline_text</th>\n",
       "      <th>financial_year</th>\n",
       "    </tr>\n",
       "  </thead>\n",
       "  <tbody>\n",
       "  </tbody>\n",
       "</table>\n",
       "</div>"
      ],
      "text/plain": [
       "Empty DataFrame\n",
       "Columns: [publish_date, headline_text, financial_year]\n",
       "Index: []"
      ]
     },
     "execution_count": 71,
     "metadata": {},
     "output_type": "execute_result"
    }
   ],
   "source": [
    "news_copy[news_copy[\"headline_text\"].str.contains('\\n')]"
   ]
  },
  {
   "cell_type": "code",
   "execution_count": 72,
   "metadata": {},
   "outputs": [
    {
     "data": {
      "text/html": [
       "<div>\n",
       "<style scoped>\n",
       "    .dataframe tbody tr th:only-of-type {\n",
       "        vertical-align: middle;\n",
       "    }\n",
       "\n",
       "    .dataframe tbody tr th {\n",
       "        vertical-align: top;\n",
       "    }\n",
       "\n",
       "    .dataframe thead th {\n",
       "        text-align: right;\n",
       "    }\n",
       "</style>\n",
       "<table border=\"1\" class=\"dataframe\">\n",
       "  <thead>\n",
       "    <tr style=\"text-align: right;\">\n",
       "      <th></th>\n",
       "      <th>publish_date</th>\n",
       "      <th>headline_text</th>\n",
       "      <th>financial_year</th>\n",
       "    </tr>\n",
       "  </thead>\n",
       "  <tbody>\n",
       "    <tr>\n",
       "      <th>1186013</th>\n",
       "      <td>2019-12-31</td>\n",
       "      <td>vision of flames approaching corryong in victoria</td>\n",
       "      <td>2019-07-01</td>\n",
       "    </tr>\n",
       "    <tr>\n",
       "      <th>1186014</th>\n",
       "      <td>2019-12-31</td>\n",
       "      <td>wa police and government backflip on drug amnesty bins</td>\n",
       "      <td>2019-07-01</td>\n",
       "    </tr>\n",
       "    <tr>\n",
       "      <th>1186015</th>\n",
       "      <td>2019-12-31</td>\n",
       "      <td>we have fears for their safety: victorian premier</td>\n",
       "      <td>2019-07-01</td>\n",
       "    </tr>\n",
       "    <tr>\n",
       "      <th>1186016</th>\n",
       "      <td>2019-12-31</td>\n",
       "      <td>when do the 20s start</td>\n",
       "      <td>2019-07-01</td>\n",
       "    </tr>\n",
       "    <tr>\n",
       "      <th>1186017</th>\n",
       "      <td>2019-12-31</td>\n",
       "      <td>yarraville shooting woman dead man critically injured</td>\n",
       "      <td>2019-07-01</td>\n",
       "    </tr>\n",
       "  </tbody>\n",
       "</table>\n",
       "</div>"
      ],
      "text/plain": [
       "        publish_date                                           headline_text  \\\n",
       "1186013   2019-12-31       vision of flames approaching corryong in victoria   \n",
       "1186014   2019-12-31  wa police and government backflip on drug amnesty bins   \n",
       "1186015   2019-12-31       we have fears for their safety: victorian premier   \n",
       "1186016   2019-12-31                                   when do the 20s start   \n",
       "1186017   2019-12-31   yarraville shooting woman dead man critically injured   \n",
       "\n",
       "        financial_year  \n",
       "1186013     2019-07-01  \n",
       "1186014     2019-07-01  \n",
       "1186015     2019-07-01  \n",
       "1186016     2019-07-01  \n",
       "1186017     2019-07-01  "
      ]
     },
     "execution_count": 72,
     "metadata": {},
     "output_type": "execute_result"
    }
   ],
   "source": [
    "news_copy.tail()"
   ]
  },
  {
   "cell_type": "markdown",
   "metadata": {},
   "source": [
    "## Stemming & lemmatization with NLTK"
   ]
  },
  {
   "cell_type": "code",
   "execution_count": 73,
   "metadata": {},
   "outputs": [],
   "source": [
    "from nltk.stem import WordNetLemmatizer, PorterStemmer\n",
    "porter = PorterStemmer()\n",
    "wnl = WordNetLemmatizer()"
   ]
  },
  {
   "cell_type": "code",
   "execution_count": 74,
   "metadata": {},
   "outputs": [
    {
     "data": {
      "text/plain": [
       "'profil'"
      ]
     },
     "execution_count": 74,
     "metadata": {},
     "output_type": "execute_result"
    }
   ],
   "source": [
    "w = 'profile'\n",
    "porter.stem(w)"
   ]
  },
  {
   "cell_type": "code",
   "execution_count": 75,
   "metadata": {},
   "outputs": [
    {
     "data": {
      "text/plain": [
       "'profile'"
      ]
     },
     "execution_count": 75,
     "metadata": {},
     "output_type": "execute_result"
    }
   ],
   "source": [
    "wnl.lemmatize(w)"
   ]
  },
  {
   "cell_type": "code",
   "execution_count": 76,
   "metadata": {},
   "outputs": [
    {
     "data": {
      "text/plain": [
       "'profile'"
      ]
     },
     "execution_count": 76,
     "metadata": {},
     "output_type": "execute_result"
    }
   ],
   "source": [
    "wnl.lemmatize(w) if wnl.lemmatize(w).endswith('e') else porter.stem(w)"
   ]
  },
  {
   "cell_type": "code",
   "execution_count": 77,
   "metadata": {},
   "outputs": [],
   "source": [
    "def clean_text(text):\n",
    "    text = re.sub('[%s]' % re.escape(string.punctuation), '', text) #remove punctuation\n",
    "    text = re.sub('\\w*\\d\\w*', '', text) # remove words with numbers\n",
    "    \n",
    "    # Stemming\n",
    "    text_list = text.split() # Convert to list\n",
    "    \n",
    "    text_list = [wnl.lemmatize(word) if wnl.lemmatize(word).endswith('e') \n",
    "                 else porter.stem(word) for word in text_list] # Stemming the data \n",
    "\n",
    "    text = \" \".join(str(i) for i in text_list) # Convert to string\n",
    "    \n",
    "    return text"
   ]
  },
  {
   "cell_type": "code",
   "execution_count": 78,
   "metadata": {},
   "outputs": [],
   "source": [
    "headlines_clean = pd.DataFrame(news_copy.headline_text.apply(clean_text))"
   ]
  },
  {
   "cell_type": "code",
   "execution_count": 79,
   "metadata": {},
   "outputs": [
    {
     "data": {
      "text/html": [
       "<div>\n",
       "<style scoped>\n",
       "    .dataframe tbody tr th:only-of-type {\n",
       "        vertical-align: middle;\n",
       "    }\n",
       "\n",
       "    .dataframe tbody tr th {\n",
       "        vertical-align: top;\n",
       "    }\n",
       "\n",
       "    .dataframe thead th {\n",
       "        text-align: right;\n",
       "    }\n",
       "</style>\n",
       "<table border=\"1\" class=\"dataframe\">\n",
       "  <thead>\n",
       "    <tr style=\"text-align: right;\">\n",
       "      <th></th>\n",
       "      <th>headline_text</th>\n",
       "    </tr>\n",
       "  </thead>\n",
       "  <tbody>\n",
       "    <tr>\n",
       "      <th>0</th>\n",
       "      <td>aba decid against commun broadcast licence</td>\n",
       "    </tr>\n",
       "    <tr>\n",
       "      <th>1</th>\n",
       "      <td>act fire wit must be aware of defam</td>\n",
       "    </tr>\n",
       "    <tr>\n",
       "      <th>2</th>\n",
       "      <td>a g call for infrastructure protect summit</td>\n",
       "    </tr>\n",
       "    <tr>\n",
       "      <th>3</th>\n",
       "      <td>air nz staff in aust strike for pay rise</td>\n",
       "    </tr>\n",
       "    <tr>\n",
       "      <th>4</th>\n",
       "      <td>air nz strike to affect australian travel</td>\n",
       "    </tr>\n",
       "    <tr>\n",
       "      <th>...</th>\n",
       "      <td>...</td>\n",
       "    </tr>\n",
       "    <tr>\n",
       "      <th>1186013</th>\n",
       "      <td>vision of flame approach corryong in victoria</td>\n",
       "    </tr>\n",
       "    <tr>\n",
       "      <th>1186014</th>\n",
       "      <td>wa police and govern backflip on drug amnesti bin</td>\n",
       "    </tr>\n",
       "    <tr>\n",
       "      <th>1186015</th>\n",
       "      <td>we have fear for their safeti victorian premier</td>\n",
       "    </tr>\n",
       "    <tr>\n",
       "      <th>1186016</th>\n",
       "      <td>when do the start</td>\n",
       "    </tr>\n",
       "    <tr>\n",
       "      <th>1186017</th>\n",
       "      <td>yarraville shoot woman dead man critic injur</td>\n",
       "    </tr>\n",
       "  </tbody>\n",
       "</table>\n",
       "<p>1186018 rows × 1 columns</p>\n",
       "</div>"
      ],
      "text/plain": [
       "                                             headline_text\n",
       "0               aba decid against commun broadcast licence\n",
       "1                      act fire wit must be aware of defam\n",
       "2               a g call for infrastructure protect summit\n",
       "3                 air nz staff in aust strike for pay rise\n",
       "4                air nz strike to affect australian travel\n",
       "...                                                    ...\n",
       "1186013      vision of flame approach corryong in victoria\n",
       "1186014  wa police and govern backflip on drug amnesti bin\n",
       "1186015    we have fear for their safeti victorian premier\n",
       "1186016                                  when do the start\n",
       "1186017       yarraville shoot woman dead man critic injur\n",
       "\n",
       "[1186018 rows x 1 columns]"
      ]
     },
     "execution_count": 79,
     "metadata": {},
     "output_type": "execute_result"
    }
   ],
   "source": [
    "headlines_clean"
   ]
  },
  {
   "cell_type": "markdown",
   "metadata": {},
   "source": [
    "#### Replace original \"headline_text\" with clean version"
   ]
  },
  {
   "cell_type": "code",
   "execution_count": 80,
   "metadata": {},
   "outputs": [],
   "source": [
    "news_copy[\"headline_text\"] = headlines_clean[\"headline_text\"]"
   ]
  },
  {
   "cell_type": "code",
   "execution_count": 81,
   "metadata": {},
   "outputs": [
    {
     "data": {
      "text/html": [
       "<div>\n",
       "<style scoped>\n",
       "    .dataframe tbody tr th:only-of-type {\n",
       "        vertical-align: middle;\n",
       "    }\n",
       "\n",
       "    .dataframe tbody tr th {\n",
       "        vertical-align: top;\n",
       "    }\n",
       "\n",
       "    .dataframe thead th {\n",
       "        text-align: right;\n",
       "    }\n",
       "</style>\n",
       "<table border=\"1\" class=\"dataframe\">\n",
       "  <thead>\n",
       "    <tr style=\"text-align: right;\">\n",
       "      <th></th>\n",
       "      <th>publish_date</th>\n",
       "      <th>headline_text</th>\n",
       "      <th>financial_year</th>\n",
       "    </tr>\n",
       "  </thead>\n",
       "  <tbody>\n",
       "    <tr>\n",
       "      <th>0</th>\n",
       "      <td>2003-02-19</td>\n",
       "      <td>aba decid against commun broadcast licence</td>\n",
       "      <td>2002-07-01</td>\n",
       "    </tr>\n",
       "    <tr>\n",
       "      <th>1</th>\n",
       "      <td>2003-02-19</td>\n",
       "      <td>act fire wit must be aware of defam</td>\n",
       "      <td>2002-07-01</td>\n",
       "    </tr>\n",
       "    <tr>\n",
       "      <th>2</th>\n",
       "      <td>2003-02-19</td>\n",
       "      <td>a g call for infrastructure protect summit</td>\n",
       "      <td>2002-07-01</td>\n",
       "    </tr>\n",
       "    <tr>\n",
       "      <th>3</th>\n",
       "      <td>2003-02-19</td>\n",
       "      <td>air nz staff in aust strike for pay rise</td>\n",
       "      <td>2002-07-01</td>\n",
       "    </tr>\n",
       "    <tr>\n",
       "      <th>4</th>\n",
       "      <td>2003-02-19</td>\n",
       "      <td>air nz strike to affect australian travel</td>\n",
       "      <td>2002-07-01</td>\n",
       "    </tr>\n",
       "    <tr>\n",
       "      <th>...</th>\n",
       "      <td>...</td>\n",
       "      <td>...</td>\n",
       "      <td>...</td>\n",
       "    </tr>\n",
       "    <tr>\n",
       "      <th>1186013</th>\n",
       "      <td>2019-12-31</td>\n",
       "      <td>vision of flame approach corryong in victoria</td>\n",
       "      <td>2019-07-01</td>\n",
       "    </tr>\n",
       "    <tr>\n",
       "      <th>1186014</th>\n",
       "      <td>2019-12-31</td>\n",
       "      <td>wa police and govern backflip on drug amnesti bin</td>\n",
       "      <td>2019-07-01</td>\n",
       "    </tr>\n",
       "    <tr>\n",
       "      <th>1186015</th>\n",
       "      <td>2019-12-31</td>\n",
       "      <td>we have fear for their safeti victorian premier</td>\n",
       "      <td>2019-07-01</td>\n",
       "    </tr>\n",
       "    <tr>\n",
       "      <th>1186016</th>\n",
       "      <td>2019-12-31</td>\n",
       "      <td>when do the start</td>\n",
       "      <td>2019-07-01</td>\n",
       "    </tr>\n",
       "    <tr>\n",
       "      <th>1186017</th>\n",
       "      <td>2019-12-31</td>\n",
       "      <td>yarraville shoot woman dead man critic injur</td>\n",
       "      <td>2019-07-01</td>\n",
       "    </tr>\n",
       "  </tbody>\n",
       "</table>\n",
       "<p>1186018 rows × 3 columns</p>\n",
       "</div>"
      ],
      "text/plain": [
       "        publish_date                                      headline_text  \\\n",
       "0         2003-02-19         aba decid against commun broadcast licence   \n",
       "1         2003-02-19                act fire wit must be aware of defam   \n",
       "2         2003-02-19         a g call for infrastructure protect summit   \n",
       "3         2003-02-19           air nz staff in aust strike for pay rise   \n",
       "4         2003-02-19          air nz strike to affect australian travel   \n",
       "...              ...                                                ...   \n",
       "1186013   2019-12-31      vision of flame approach corryong in victoria   \n",
       "1186014   2019-12-31  wa police and govern backflip on drug amnesti bin   \n",
       "1186015   2019-12-31    we have fear for their safeti victorian premier   \n",
       "1186016   2019-12-31                                  when do the start   \n",
       "1186017   2019-12-31       yarraville shoot woman dead man critic injur   \n",
       "\n",
       "        financial_year  \n",
       "0           2002-07-01  \n",
       "1           2002-07-01  \n",
       "2           2002-07-01  \n",
       "3           2002-07-01  \n",
       "4           2002-07-01  \n",
       "...                ...  \n",
       "1186013     2019-07-01  \n",
       "1186014     2019-07-01  \n",
       "1186015     2019-07-01  \n",
       "1186016     2019-07-01  \n",
       "1186017     2019-07-01  \n",
       "\n",
       "[1186018 rows x 3 columns]"
      ]
     },
     "execution_count": 81,
     "metadata": {},
     "output_type": "execute_result"
    }
   ],
   "source": [
    "news_copy"
   ]
  },
  {
   "cell_type": "markdown",
   "metadata": {},
   "source": [
    "## Remove stop words\n",
    "\n",
    "a, the, and, etc."
   ]
  },
  {
   "cell_type": "code",
   "execution_count": 84,
   "metadata": {},
   "outputs": [],
   "source": [
    "cv = CountVectorizer(stop_words='english')"
   ]
  },
  {
   "cell_type": "code",
   "execution_count": 85,
   "metadata": {},
   "outputs": [],
   "source": [
    "data_cv = cv.fit_transform(news_copy.headline_text)"
   ]
  },
  {
   "cell_type": "code",
   "execution_count": 86,
   "metadata": {},
   "outputs": [],
   "source": [
    "news_dtm = pd.DataFrame(data_cv.toarray(), columns=cv.get_feature_names())"
   ]
  },
  {
   "cell_type": "code",
   "execution_count": 87,
   "metadata": {},
   "outputs": [],
   "source": [
    "news_dtm.index = news_copy.index"
   ]
  },
  {
   "cell_type": "code",
   "execution_count": 88,
   "metadata": {},
   "outputs": [
    {
     "data": {
      "text/html": [
       "<div>\n",
       "<style scoped>\n",
       "    .dataframe tbody tr th:only-of-type {\n",
       "        vertical-align: middle;\n",
       "    }\n",
       "\n",
       "    .dataframe tbody tr th {\n",
       "        vertical-align: top;\n",
       "    }\n",
       "\n",
       "    .dataframe thead th {\n",
       "        text-align: right;\n",
       "    }\n",
       "</style>\n",
       "<table border=\"1\" class=\"dataframe\">\n",
       "  <thead>\n",
       "    <tr style=\"text-align: right;\">\n",
       "      <th></th>\n",
       "      <th>aa</th>\n",
       "      <th>aaa</th>\n",
       "      <th>aaahhh</th>\n",
       "      <th>aac</th>\n",
       "      <th>aacc</th>\n",
       "      <th>aaco</th>\n",
       "      <th>aacta</th>\n",
       "      <th>aad</th>\n",
       "      <th>aadhaar</th>\n",
       "      <th>aadmi</th>\n",
       "      <th>...</th>\n",
       "      <th>zydelig</th>\n",
       "      <th>zygar</th>\n",
       "      <th>zygief</th>\n",
       "      <th>zygier</th>\n",
       "      <th>zyl</th>\n",
       "      <th>zylvest</th>\n",
       "      <th>zynga</th>\n",
       "      <th>zyngier</th>\n",
       "      <th>zz</th>\n",
       "      <th>zzz</th>\n",
       "    </tr>\n",
       "  </thead>\n",
       "  <tbody>\n",
       "    <tr>\n",
       "      <th>0</th>\n",
       "      <td>0</td>\n",
       "      <td>0</td>\n",
       "      <td>0</td>\n",
       "      <td>0</td>\n",
       "      <td>0</td>\n",
       "      <td>0</td>\n",
       "      <td>0</td>\n",
       "      <td>0</td>\n",
       "      <td>0</td>\n",
       "      <td>0</td>\n",
       "      <td>...</td>\n",
       "      <td>0</td>\n",
       "      <td>0</td>\n",
       "      <td>0</td>\n",
       "      <td>0</td>\n",
       "      <td>0</td>\n",
       "      <td>0</td>\n",
       "      <td>0</td>\n",
       "      <td>0</td>\n",
       "      <td>0</td>\n",
       "      <td>0</td>\n",
       "    </tr>\n",
       "    <tr>\n",
       "      <th>1</th>\n",
       "      <td>0</td>\n",
       "      <td>0</td>\n",
       "      <td>0</td>\n",
       "      <td>0</td>\n",
       "      <td>0</td>\n",
       "      <td>0</td>\n",
       "      <td>0</td>\n",
       "      <td>0</td>\n",
       "      <td>0</td>\n",
       "      <td>0</td>\n",
       "      <td>...</td>\n",
       "      <td>0</td>\n",
       "      <td>0</td>\n",
       "      <td>0</td>\n",
       "      <td>0</td>\n",
       "      <td>0</td>\n",
       "      <td>0</td>\n",
       "      <td>0</td>\n",
       "      <td>0</td>\n",
       "      <td>0</td>\n",
       "      <td>0</td>\n",
       "    </tr>\n",
       "    <tr>\n",
       "      <th>2</th>\n",
       "      <td>0</td>\n",
       "      <td>0</td>\n",
       "      <td>0</td>\n",
       "      <td>0</td>\n",
       "      <td>0</td>\n",
       "      <td>0</td>\n",
       "      <td>0</td>\n",
       "      <td>0</td>\n",
       "      <td>0</td>\n",
       "      <td>0</td>\n",
       "      <td>...</td>\n",
       "      <td>0</td>\n",
       "      <td>0</td>\n",
       "      <td>0</td>\n",
       "      <td>0</td>\n",
       "      <td>0</td>\n",
       "      <td>0</td>\n",
       "      <td>0</td>\n",
       "      <td>0</td>\n",
       "      <td>0</td>\n",
       "      <td>0</td>\n",
       "    </tr>\n",
       "    <tr>\n",
       "      <th>3</th>\n",
       "      <td>0</td>\n",
       "      <td>0</td>\n",
       "      <td>0</td>\n",
       "      <td>0</td>\n",
       "      <td>0</td>\n",
       "      <td>0</td>\n",
       "      <td>0</td>\n",
       "      <td>0</td>\n",
       "      <td>0</td>\n",
       "      <td>0</td>\n",
       "      <td>...</td>\n",
       "      <td>0</td>\n",
       "      <td>0</td>\n",
       "      <td>0</td>\n",
       "      <td>0</td>\n",
       "      <td>0</td>\n",
       "      <td>0</td>\n",
       "      <td>0</td>\n",
       "      <td>0</td>\n",
       "      <td>0</td>\n",
       "      <td>0</td>\n",
       "    </tr>\n",
       "    <tr>\n",
       "      <th>4</th>\n",
       "      <td>0</td>\n",
       "      <td>0</td>\n",
       "      <td>0</td>\n",
       "      <td>0</td>\n",
       "      <td>0</td>\n",
       "      <td>0</td>\n",
       "      <td>0</td>\n",
       "      <td>0</td>\n",
       "      <td>0</td>\n",
       "      <td>0</td>\n",
       "      <td>...</td>\n",
       "      <td>0</td>\n",
       "      <td>0</td>\n",
       "      <td>0</td>\n",
       "      <td>0</td>\n",
       "      <td>0</td>\n",
       "      <td>0</td>\n",
       "      <td>0</td>\n",
       "      <td>0</td>\n",
       "      <td>0</td>\n",
       "      <td>0</td>\n",
       "    </tr>\n",
       "  </tbody>\n",
       "</table>\n",
       "<p>5 rows × 73287 columns</p>\n",
       "</div>"
      ],
      "text/plain": [
       "   aa  aaa  aaahhh  aac  aacc  aaco  aacta  aad  aadhaar  aadmi  ...  zydelig  \\\n",
       "0   0    0       0    0     0     0      0    0        0      0  ...        0   \n",
       "1   0    0       0    0     0     0      0    0        0      0  ...        0   \n",
       "2   0    0       0    0     0     0      0    0        0      0  ...        0   \n",
       "3   0    0       0    0     0     0      0    0        0      0  ...        0   \n",
       "4   0    0       0    0     0     0      0    0        0      0  ...        0   \n",
       "\n",
       "   zygar  zygief  zygier  zyl  zylvest  zynga  zyngier  zz  zzz  \n",
       "0      0       0       0    0        0      0        0   0    0  \n",
       "1      0       0       0    0        0      0        0   0    0  \n",
       "2      0       0       0    0        0      0        0   0    0  \n",
       "3      0       0       0    0        0      0        0   0    0  \n",
       "4      0       0       0    0        0      0        0   0    0  \n",
       "\n",
       "[5 rows x 73287 columns]"
      ]
     },
     "execution_count": 88,
     "metadata": {},
     "output_type": "execute_result"
    }
   ],
   "source": [
    "news_dtm.head()"
   ]
  },
  {
   "cell_type": "code",
   "execution_count": 89,
   "metadata": {},
   "outputs": [],
   "source": [
    "news = news_copy"
   ]
  },
  {
   "cell_type": "markdown",
   "metadata": {},
   "source": [
    "# Export to csv"
   ]
  },
  {
   "cell_type": "code",
   "execution_count": 58,
   "metadata": {},
   "outputs": [],
   "source": [
    "news.to_csv('abc_news_clean.csv', sep=',', index=False, date_format='%Y-%m-%d')"
   ]
  }
 ],
 "metadata": {
  "kernelspec": {
   "display_name": "Python 3",
   "language": "python",
   "name": "python3"
  },
  "language_info": {
   "codemirror_mode": {
    "name": "ipython",
    "version": 3
   },
   "file_extension": ".py",
   "mimetype": "text/x-python",
   "name": "python",
   "nbconvert_exporter": "python",
   "pygments_lexer": "ipython3",
   "version": "3.8.5"
  }
 },
 "nbformat": 4,
 "nbformat_minor": 4
}
