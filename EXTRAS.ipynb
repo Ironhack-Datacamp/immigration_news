{
 "cells": [
  {
   "cell_type": "code",
   "execution_count": null,
   "metadata": {},
   "outputs": [],
   "source": []
  },
  {
   "cell_type": "code",
   "execution_count": null,
   "metadata": {},
   "outputs": [],
   "source": []
  },
  {
   "cell_type": "markdown",
   "metadata": {},
   "source": [
    "## humanitarian news early & late"
   ]
  },
  {
   "cell_type": "code",
   "execution_count": null,
   "metadata": {},
   "outputs": [],
   "source": [
    "humanit_merge_early = humanit_merge.loc[(humanit_merge['year_only'] \n",
    "                                         < 2011)]\n",
    "humanit_merge_early"
   ]
  },
  {
   "cell_type": "code",
   "execution_count": null,
   "metadata": {},
   "outputs": [],
   "source": [
    "ax = humanit_merge_early.plot(x=\"year_only\", y=\"Total\", legend=False)\n",
    "ax2 = ax.twinx()\n",
    "humanit_merge_early.plot(x=\"year_only\", y=\"percentage\", \n",
    "                   ax=ax2, legend=False, color=\"r\", figsize=(15,8))\n",
    "ax.figure.legend()\n",
    "plt.show()"
   ]
  },
  {
   "cell_type": "code",
   "execution_count": null,
   "metadata": {},
   "outputs": [],
   "source": [
    "#add constant\n",
    "humanit_merge_early = humanit_merge_early.assign(const=1)\n",
    "\n",
    "#regression\n",
    "y = humanit_merge_early['percentage']\n",
    "X = humanit_merge_early[[\"const\", 'Total']] #t represents time\n",
    "lin_reg = sm.OLS(y, X)\n",
    "results = lin_reg.fit()\n",
    "results.summary()"
   ]
  },
  {
   "cell_type": "code",
   "execution_count": null,
   "metadata": {},
   "outputs": [],
   "source": []
  },
  {
   "cell_type": "code",
   "execution_count": null,
   "metadata": {},
   "outputs": [],
   "source": [
    "humanit_merge_late = humanit_merge.loc[(humanit_merge['year_only'] \n",
    "                                         > 2010)]\n",
    "humanit_merge_late = humanit_merge_late.reset_index(drop=True)\n",
    "humanit_merge_late"
   ]
  },
  {
   "cell_type": "code",
   "execution_count": null,
   "metadata": {},
   "outputs": [],
   "source": [
    "ax = humanit_merge_late.plot(x=\"year_only\", y=\"Total\", legend=False)\n",
    "ax2 = ax.twinx()\n",
    "humanit_merge_late.plot(x=\"year_only\", y=\"percentage\", \n",
    "                   ax=ax2, legend=False, color=\"r\", figsize=(15,8))\n",
    "ax.figure.legend()\n",
    "plt.show()"
   ]
  },
  {
   "cell_type": "code",
   "execution_count": null,
   "metadata": {},
   "outputs": [],
   "source": [
    "#add constant\n",
    "humanit_merge_late = humanit_merge_late.assign(const=1)\n",
    "\n",
    "#regression\n",
    "y = humanit_merge_late['percentage']\n",
    "X = humanit_merge_late[[\"const\", 'Total']] #t represents time\n",
    "lin_reg = sm.OLS(y, X)\n",
    "results = lin_reg.fit()\n",
    "results.summary()"
   ]
  },
  {
   "cell_type": "code",
   "execution_count": null,
   "metadata": {},
   "outputs": [],
   "source": []
  },
  {
   "cell_type": "code",
   "execution_count": null,
   "metadata": {},
   "outputs": [],
   "source": []
  }
 ],
 "metadata": {
  "kernelspec": {
   "display_name": "Python 3",
   "language": "python",
   "name": "python3"
  },
  "language_info": {
   "codemirror_mode": {
    "name": "ipython",
    "version": 3
   },
   "file_extension": ".py",
   "mimetype": "text/x-python",
   "name": "python",
   "nbconvert_exporter": "python",
   "pygments_lexer": "ipython3",
   "version": "3.8.5"
  }
 },
 "nbformat": 4,
 "nbformat_minor": 4
}
